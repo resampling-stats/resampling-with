{
 "cells": [
  {
   "cell_type": "markdown",
   "id": "be7538f7",
   "metadata": {},
   "source": [
    "# Cures for pill vs placebo"
   ]
  },
  {
   "cell_type": "markdown",
   "id": "e322fe1a",
   "metadata": {},
   "source": [
    "Now for a Python solution. Again, the benchmark hypothesis is that pill\n",
    "P has no effect, and we ask how often, on this assumption, the results\n",
    "that were obtained from the actual test of the pill would occur by\n",
    "chance.\n",
    "\n",
    "Given that in the test 7 of 12 patients overall got well, the benchmark\n",
    "hypothesis assumes 7/12 to be the chances of any random patient being\n",
    "cured. We generate two similar samples of 6 patients, both taken from\n",
    "the same universe composed of the combined samples — the bootstrap\n",
    "procedure. We count (`sum`) the number who are “get well” in each\n",
    "sample. Then we subtract the number who got well in the “pill” sample\n",
    "from the number who got well in the “no-pill” sample. We record the\n",
    "resulting difference for each trial in the variable `pill_betters`.\n",
    "\n",
    "In the actual test, 3 more patients got well in the sample given the\n",
    "pill than in the sample given the placebo. We therefore count how many\n",
    "of the trials yield results where the difference between the sample\n",
    "given the pill and the sample not given the pill was greater than 2\n",
    "(equal to or greater than 3). This result is the probability that the\n",
    "results derived from the actual test would be obtained from random\n",
    "samples drawn from a population which has a constant cure rate, pill or\n",
    "no pill."
   ]
  },
  {
   "cell_type": "code",
   "execution_count": null,
   "id": "07317b55",
   "metadata": {},
   "outputs": [],
   "source": [
    "import numpy as np\n",
    "\n",
    "rnd = np.random.default_rng()\n",
    "\n",
    "# The bucket with the pieces of paper.\n",
    "options = np.repeat(['get well', 'not well'], [7, 5])\n",
    "\n",
    "n = 10_000\n",
    "\n",
    "pill_betters = np.zeros(n, dtype=int)\n",
    "\n",
    "for i in range(n):\n",
    "    pill = rnd.choice(options, size=6)\n",
    "    pill_cures = np.sum(pill == 'get well')\n",
    "    placebo = rnd.choice(options, size=6)\n",
    "    placebo_cures = np.sum(placebo == 'get well')\n",
    "    pill_betters[i] = pill_cures - placebo_cures\n",
    "\n",
    "plt.hist(pill_betters, bins=range(-6, 7))\n",
    "plt.title('Number of extra cures pill vs placebo in null universe')"
   ]
  },
  {
   "cell_type": "markdown",
   "id": "08cb31dc",
   "metadata": {},
   "source": [
    "Recall our actual observed results: In the medicine group, three more\n",
    "patients were cured than in the placebo group. From the histogram, we\n",
    "see that in only about 8 percent of the simulated trials did the\n",
    "“medicine” group do as well or better. The results seem to suggest — but\n",
    "by no means conclusively — that the medicine’s performance is not due to\n",
    "chance. Further study would probably be warranted. The following\n",
    "commands added to the above program will calculate this proportion\n",
    "directly:"
   ]
  },
  {
   "cell_type": "code",
   "execution_count": null,
   "id": "ae768ffc",
   "metadata": {},
   "outputs": [],
   "source": [
    "# How many trials gave an advantage of 3 or greater to the pill?\n",
    "k = np.sum(pill_betters >= 3)\n",
    "# Convert to a proportion.\n",
    "kk = k / n\n",
    "# Print the result.\n",
    "print('Proportion with advantage of 3 or more for pill:',\n",
    "      np.round(kk, 2))"
   ]
  }
 ],
 "metadata": {
  "jupytext": {
   "cell_metadata_filter": "-all",
   "main_language": "python",
   "notebook_metadata_filter": "-all"
  }
 },
 "nbformat": 4,
 "nbformat_minor": 5
}