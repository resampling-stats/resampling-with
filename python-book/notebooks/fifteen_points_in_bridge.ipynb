{
 "cells": [
  {
   "cell_type": "markdown",
   "id": "25561133",
   "metadata": {},
   "source": [
    "# Fifteen points in a bridge hand"
   ]
  },
  {
   "cell_type": "markdown",
   "id": "3c27d688",
   "metadata": {},
   "source": [
    "Let us assume that ace counts as 4, king = 3, queen = 2, and jack = 1."
   ]
  },
  {
   "cell_type": "code",
   "execution_count": null,
   "id": "f425a4fa",
   "metadata": {},
   "outputs": [],
   "source": [
    "import numpy as np\n",
    "\n",
    "rnd = np.random.default_rng()\n",
    "\n",
    "import matplotlib.pyplot as plt"
   ]
  },
  {
   "cell_type": "code",
   "execution_count": null,
   "id": "edc33281",
   "metadata": {},
   "outputs": [],
   "source": [
    "# Constitute a deck with 4 jacks (point value 1), 4 queens (value 2), 4\n",
    "# kings (value 3), 4 aces (value 4), and 36 other cards with no point\n",
    "# value\n",
    "whole_deck = np.repeat([1, 2, 3, 4, 0], [4, 4, 4, 4, 36])\n",
    "whole_deck"
   ]
  },
  {
   "cell_type": "code",
   "execution_count": null,
   "id": "9be7a175",
   "metadata": {},
   "outputs": [],
   "source": [
    "N = 10000\n",
    "trial_results = np.zeros(N)\n",
    "\n",
    "# Do N trials.\n",
    "for i in range(N):\n",
    "    # Shuffle the deck of cards and draw 13\n",
    "    hand = rnd.choice(whole_deck, size=13, replace=False)\n",
    "\n",
    "    # Total the points.\n",
    "    points = np.sum(hand)\n",
    "\n",
    "    # Keep score of the result.\n",
    "    trial_results[i] = points\n",
    "\n",
    "    # End one experiment, go back and repeat until all N trials are done."
   ]
  },
  {
   "cell_type": "code",
   "execution_count": null,
   "id": "a654117a",
   "metadata": {},
   "outputs": [],
   "source": [
    "# Produce a histogram of trial results.\n",
    "plt.hist(trial_results, bins=range(25), align='left', rwidth=0.75)\n",
    "plt.title('Points in bridge hands');"
   ]
  },
  {
   "cell_type": "markdown",
   "id": "aeb49414",
   "metadata": {},
   "source": [
    "From this histogram, we see that in about 4 percent of our trials we\n",
    "obtained a total of exactly 15 points. We can also compute this\n",
    "directly:"
   ]
  },
  {
   "cell_type": "code",
   "execution_count": null,
   "id": "14e9ee81",
   "metadata": {},
   "outputs": [],
   "source": [
    "# How many times did we have a hand with fifteen points?\n",
    "k = np.sum(trial_results == 15)\n",
    "\n",
    "# Convert to a proportion.\n",
    "kk = k / N\n",
    "\n",
    "# Show the result.\n",
    "kk"
   ]
  }
 ],
 "metadata": {
  "jupytext": {
   "cell_metadata_filter": "-all",
   "main_language": "python",
   "notebook_metadata_filter": "-all"
  }
 },
 "nbformat": 4,
 "nbformat_minor": 5
}