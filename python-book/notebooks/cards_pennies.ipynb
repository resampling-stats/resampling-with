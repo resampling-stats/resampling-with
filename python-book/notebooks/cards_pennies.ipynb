{
 "cells": [
  {
   "cell_type": "markdown",
   "id": "870f53b1",
   "metadata": {},
   "source": [
    "# Cards and pennies"
   ]
  },
  {
   "cell_type": "markdown",
   "id": "e27a5ddd",
   "metadata": {},
   "source": [
    "An answer for the following puzzle: “… shuffle a packet of four cards —\n",
    "two red, two black — and deal them face down in a row. Two cards are\n",
    "picked at random, say by placing a penny on each. What is the\n",
    "probability that those two cards are the same color?”"
   ]
  },
  {
   "cell_type": "code",
   "execution_count": null,
   "id": "19552882",
   "metadata": {},
   "outputs": [],
   "source": [
    "import numpy as np\n",
    "rnd = np.random.default_rng()"
   ]
  },
  {
   "cell_type": "code",
   "execution_count": null,
   "id": "422c3dbb",
   "metadata": {},
   "outputs": [],
   "source": [
    "# Numbers representing the slips in the hat.\n",
    "N = np.array([1, 1, 2, 2])\n",
    "\n",
    "# An array in which we will store the result of each trial.\n",
    "z = np.repeat(['No result yet'], 10000)\n",
    "\n",
    "for i in range(10000):\n",
    "    # Shuffle the numbers in N into a random order.\n",
    "    shuffled = rnd.permuted(N)\n",
    "\n",
    "    A = shuffled[0]  # The first slip from the shuffled array.\n",
    "    B = shuffled[1]  # The second slip from the shuffled array.\n",
    "\n",
    "    # Set the result of this trial.\n",
    "    if A == B:\n",
    "        z[i] = 'Yes'\n",
    "    else:\n",
    "        z[i] = 'No'\n",
    "\n",
    "# How many times did we see \"Yes\"?\n",
    "k = np.sum(z == 'Yes')\n",
    "\n",
    "# The proportion.\n",
    "kk = k / 10000\n",
    "\n",
    "print(kk)"
   ]
  },
  {
   "cell_type": "markdown",
   "id": "06842039",
   "metadata": {},
   "source": [
    "Now let’s play the game differently, first picking one card and *putting\n",
    "it back and shuffling* before picking a second card. What are the\n",
    "results now? You can try it with the cards, but here is another program,\n",
    "similar to the last, to run that variation."
   ]
  },
  {
   "cell_type": "code",
   "execution_count": null,
   "id": "563d225a",
   "metadata": {},
   "outputs": [],
   "source": [
    "# The cards / pennies game - but replacing the slip and re-shuffling, before\n",
    "# drawing again.\n",
    "\n",
    "# An array in which we will store the result of each trial.\n",
    "z = np.repeat(['No result yet'], 10000)\n",
    "\n",
    "for i in range(10000):\n",
    "    # Shuffle the numbers in N into a random order.\n",
    "    first_shuffle = rnd.permuted(N)\n",
    "    # Draw a slip of paper.\n",
    "    A = first_shuffle[0]  # The first slip.\n",
    "\n",
    "    # Shuffle again (with all the slips).\n",
    "    second_shuffle = rnd.permuted(N)\n",
    "    # Draw a slip of paper.\n",
    "    B = second_shuffle[0]  # The second slip.\n",
    "\n",
    "    # Set the result of this trial.\n",
    "    if A == B:\n",
    "        z[i] = 'Yes'\n",
    "    else:\n",
    "        z[i] = 'No'\n",
    "\n",
    "# How many times did we see \"Yes\"?\n",
    "k = np.sum(z == 'Yes')\n",
    "\n",
    "# The proportion.\n",
    "kk = k / 10000\n",
    "\n",
    "print(kk)"
   ]
  }
 ],
 "metadata": {
  "jupytext": {
   "cell_metadata_filter": "-all",
   "main_language": "python",
   "notebook_metadata_filter": "-all"
  }
 },
 "nbformat": 4,
 "nbformat_minor": 5
}