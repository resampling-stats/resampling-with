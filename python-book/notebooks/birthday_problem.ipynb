{
 "cells": [
  {
   "cell_type": "markdown",
   "id": "52c7d749",
   "metadata": {},
   "source": [
    "# The Birthday Problem"
   ]
  },
  {
   "cell_type": "markdown",
   "id": "d16286bd",
   "metadata": {},
   "source": [
    "Here we answer the question: “What is the probability that two or more\n",
    "people among a roomful of (say) twenty-five people will have the same\n",
    "birthday?”"
   ]
  },
  {
   "cell_type": "code",
   "execution_count": null,
   "id": "2cf977df",
   "metadata": {},
   "outputs": [],
   "source": [
    "import numpy as np\n",
    "rnd = np.random.default_rng()"
   ]
  },
  {
   "cell_type": "code",
   "execution_count": null,
   "id": "a38f0db7",
   "metadata": {},
   "outputs": [],
   "source": [
    "n_with_same_birthday = np.zeros(10000)\n",
    "\n",
    "days_of_year = np.arange(1, 366)  # 1 through 365\n",
    "\n",
    "# Do 10000 trials (experiments)\n",
    "for i in range(10000):\n",
    "    # Generate 25 numbers randomly between \"1\" and \"365\" put them in a.\n",
    "    a = rnd.choice(days_of_year, size=25)\n",
    "\n",
    "    # Looking in a, count the number of multiples and put the result in\n",
    "    # b. We request multiples > 1 because we are interested in any multiple,\n",
    "    # whether it is a duplicate, triplicate, etc. Had we been interested only\n",
    "    # in duplicates, we would have put in np.sum(counts == 2).\n",
    "    counts = np.bincount(a)\n",
    "    n_duplicates = np.sum(counts > 1)\n",
    "\n",
    "    # Score the result of each trial to our store\n",
    "    n_with_same_birthday[i] = n_duplicates\n",
    "\n",
    "    # End the loop for the trial, go back and repeat the trial until all 10000\n",
    "    # are complete, then proceed.\n",
    "\n",
    "# Determine how many trials had at least one multiple.\n",
    "k = np.sum(n_with_same_birthday)\n",
    "\n",
    "# Convert to a proportion.\n",
    "kk = k / 10000\n",
    "\n",
    "# Print the result.\n",
    "print(kk)"
   ]
  }
 ],
 "metadata": {
  "jupytext": {
   "cell_metadata_filter": "-all",
   "main_language": "python",
   "notebook_metadata_filter": "-all"
  }
 },
 "nbformat": 4,
 "nbformat_minor": 5
}