{
 "cells": [
  {
   "cell_type": "markdown",
   "id": "6db25df9",
   "metadata": {},
   "source": [
    "# Number of viewers"
   ]
  },
  {
   "cell_type": "markdown",
   "id": "3cd34bb7",
   "metadata": {},
   "source": [
    "The notebook calculates the expected number of viewers in a sample of\n",
    "400, given that there is a 30% chance of any one person being a viewer,\n",
    "and then calculates how far that value is from 120."
   ]
  },
  {
   "cell_type": "code",
   "execution_count": null,
   "id": "08a160c9",
   "metadata": {},
   "outputs": [],
   "source": [
    "import numpy as np\n",
    "\n",
    "# set up the random number generator\n",
    "rnd = np.random.default_rng()"
   ]
  },
  {
   "cell_type": "code",
   "execution_count": null,
   "id": "c5ddf77d",
   "metadata": {
    "lines_to_next_cell": 0
   },
   "outputs": [],
   "source": [
    "# set the number of trials\n",
    "n_trials = 10000\n",
    "\n",
    "# an empty array to store the scores\n",
    "scores = np.zeros(n_trials)\n",
    "\n",
    "# What are the options to choose from?\n",
    "options = ['viewer', 'not viewer']\n",
    "\n",
    "# do n_trials trials\n",
    "for i in range(n_trials):\n",
    "\n",
    "    # Choose 'viewer' 30% of the time.\n",
    "    a = rnd.choice(options, size=400, p=[0.3, 0.7])\n",
    "\n",
    "    # count the viewers\n",
    "    b = np.sum(a == 'viewer')\n",
    "\n",
    "    # how different from expected?\n",
    "    c = 120 - b\n",
    "\n",
    "    # absolute value of the difference\n",
    "    d = np.abs(c)\n",
    "\n",
    "    # express as a proportion of sample\n",
    "    e = d / 400\n",
    "\n",
    "    # keep score of the result\n",
    "    scores[i] = e\n",
    "\n",
    "# find the mean divergence\n",
    "k = np.mean(scores)\n",
    "\n",
    "# Show the result\n",
    "k"
   ]
  },
  {
   "cell_type": "markdown",
   "id": "2cfd4ec2",
   "metadata": {},
   "source": []
  }
 ],
 "metadata": {
  "jupytext": {
   "cell_metadata_filter": "-all",
   "main_language": "python",
   "notebook_metadata_filter": "-all"
  }
 },
 "nbformat": 4,
 "nbformat_minor": 5
}