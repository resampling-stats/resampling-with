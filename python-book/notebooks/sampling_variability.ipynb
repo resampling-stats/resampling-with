{
 "cells": [
  {
   "cell_type": "markdown",
   "id": "c7056f64",
   "metadata": {},
   "source": [
    "# Experiment in sampling variability"
   ]
  },
  {
   "cell_type": "markdown",
   "id": "e81f6ef8",
   "metadata": {},
   "source": [
    "Try generating some rookie “seasons” yourself with the following\n",
    "commands, ranging the batter’s “true” performance by changing the value\n",
    "of `p_hit` (the probability of a hit)."
   ]
  },
  {
   "cell_type": "code",
   "execution_count": null,
   "id": "dd55fc95",
   "metadata": {},
   "outputs": [],
   "source": [
    "import numpy as np\n",
    "\n",
    "rnd = np.random.default_rng()"
   ]
  },
  {
   "cell_type": "code",
   "execution_count": null,
   "id": "f1b46208",
   "metadata": {},
   "outputs": [],
   "source": [
    "# Simulate a rookie season of 400 at-bats.\n",
    "\n",
    "# You might try changing the value below and rerunning.\n",
    "# This is the true (long-run) probability of a hit for this batter.\n",
    "p_hit = 0.4\n",
    "print('True average is:', p_hit)"
   ]
  },
  {
   "cell_type": "code",
   "execution_count": null,
   "id": "1455c03b",
   "metadata": {},
   "outputs": [],
   "source": [
    "at_bats = rnd.choice(['Hit', 'Out'], p=[p_hit, 1 - p_hit], size=400)\n",
    "simulated_average = np.sum(at_bats == 'Hit') / 400\n",
    "# Show the result\n",
    "print('Simulated average is:', simulated_average)"
   ]
  },
  {
   "cell_type": "markdown",
   "id": "1a5d87e8",
   "metadata": {},
   "source": [
    "Simulate a set of 10 or 20 such rookie seasons, and look at the one who\n",
    "did best. How did their rookie season compare to their “true” average?"
   ]
  }
 ],
 "metadata": {
  "jupytext": {
   "cell_metadata_filter": "-all",
   "main_language": "python",
   "notebook_metadata_filter": "-all"
  }
 },
 "nbformat": 4,
 "nbformat_minor": 5
}