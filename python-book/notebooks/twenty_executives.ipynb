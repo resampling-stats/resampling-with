{
 "cells": [
  {
   "cell_type": "markdown",
   "id": "69da3313",
   "metadata": {},
   "source": [
    "# Twenty executives, two divisions"
   ]
  },
  {
   "cell_type": "markdown",
   "id": "74fd80af",
   "metadata": {},
   "source": [
    "The top manager wants to spread the talent reasonably evenly, but she\n",
    "does not want to label particular executives with a quality rating and\n",
    "therefore considers distributing them with a random selection. She\n",
    "therefore wonders: What are probabilities of the best ten among the\n",
    "twenty being split among the divisions in the ratios 5 and 5, 4 and 6, 3\n",
    "and 7, etc., if their names are drawn from a hat? One might imagine much\n",
    "the same sort of problem in choosing two teams for a football or\n",
    "baseball contest.\n",
    "\n",
    "One may proceed as follows:\n",
    "\n",
    "1.  Put 10 balls labeled “W” (for “worst”) and 10 balls labeled “B”\n",
    "    (best) in a bucket.\n",
    "2.  Draw 10 balls without replacement and count the W’s.\n",
    "3.  Repeat (say) 400 times.\n",
    "4.  Count the number of times each split — 5 W’s and 5 B’s, 4 and 6,\n",
    "    etc. — appears in the results.\n",
    "\n",
    "The problem can be done with Python as follows:"
   ]
  },
  {
   "cell_type": "code",
   "execution_count": null,
   "id": "86f31c74",
   "metadata": {},
   "outputs": [],
   "source": [
    "import numpy as np\n",
    "\n",
    "rnd = np.random.default_rng()\n",
    "\n",
    "import matplotlib.pyplot as plt"
   ]
  },
  {
   "cell_type": "code",
   "execution_count": null,
   "id": "c7c73832",
   "metadata": {},
   "outputs": [],
   "source": [
    "N = 10000\n",
    "trial_results = np.zeros(N)\n",
    "\n",
    "managers = np.repeat(['Worst', 'Best'], [10, 10])\n",
    "\n",
    "for i in range(N):\n",
    "    chosen = rnd.choice(managers, size=10, replace=False)\n",
    "    trial_results[i] = np.sum(chosen == 'Best')\n",
    "\n",
    "plt.hist(trial_results, bins=range(10), align='left', rwidth=0.75)\n",
    "plt.title('Number of best managers chosen')"
   ]
  }
 ],
 "metadata": {
  "jupytext": {
   "cell_metadata_filter": "-all",
   "main_language": "python",
   "notebook_metadata_filter": "-all"
  }
 },
 "nbformat": 4,
 "nbformat_minor": 5
}