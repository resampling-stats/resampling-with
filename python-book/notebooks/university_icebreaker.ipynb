{
 "cells": [
  {
   "cell_type": "markdown",
   "id": "5d4c64f1",
   "metadata": {},
   "source": [
    "# An icebreaker for two universities"
   ]
  },
  {
   "cell_type": "markdown",
   "id": "41ce43f7",
   "metadata": {},
   "source": [
    "**First put two groups of 10 people into 10 pairs. Then re-randomize the\n",
    "pairings. What is the chance that four or more pairs are the same in the\n",
    "second random pairing? This is a problem in the probability of matching\n",
    "by chance**.\n",
    "\n",
    "Ten representatives each from two universities, Birmingham and Berkeley,\n",
    "attend a meeting. As a social icebreaker, representatives are divided,\n",
    "randomly, into pairs consisting of one person from each university.\n",
    "\n",
    "If they held a second round of the icebreaker, with a new random\n",
    "pairing, what is the chance that four or more pairs will be the same?\n",
    "\n",
    "In approaching this problem, we start at the point where the first\n",
    "icebreaker is complete. We now have to determine what happens after the\n",
    "second round.\n",
    "\n",
    "- **Step 1.** Let “ace” through “10” of hearts represent the ten\n",
    "  representatives from Birmingham University. Let “ace” through “10” of\n",
    "  spades be their allocated partners (in round one) from Berkeley.\n",
    "- **Step 2.** Shuffle the hearts and deal them out in a row; shuffle the\n",
    "  spades and deal in a row just below the hearts.\n",
    "- **Step 3.** Count the pairs — a pair is one card from the heart row\n",
    "  and one card from the spade row — that contain the same denomination.\n",
    "  If 4 or more pairs match, record “yes,” otherwise “no.”\n",
    "- **Step 4.** Repeat steps (2) and (3), say, 10,000 times.\n",
    "- **Step 5.** Count the proportion “yes.” This estimates the probability\n",
    "  of 4 or more pairs.\n",
    "\n",
    "Exercise for the student: Write the steps to do this example with random\n",
    "numbers. The Python solution follows below."
   ]
  },
  {
   "cell_type": "code",
   "execution_count": null,
   "id": "6730432f",
   "metadata": {},
   "outputs": [],
   "source": [
    "import numpy as np\n",
    "\n",
    "rnd = np.random.default_rng()\n",
    "\n",
    "import matplotlib.pyplot as plt"
   ]
  },
  {
   "cell_type": "code",
   "execution_count": null,
   "id": "4deb26de",
   "metadata": {},
   "outputs": [],
   "source": [
    "N = 10000\n",
    "trial_results = np.zeros(N)\n",
    "\n",
    "# Assign numbers to each student, according to their pair, after the first\n",
    "# icebreaker\n",
    "birmingham = np.arange(10)\n",
    "berkeley = np.arange(10)\n",
    "\n",
    "for i in range(N):\n",
    "    # Randomly shuffle the students from Berkeley\n",
    "    shuffled_berkeley = rnd.permuted(berkeley)\n",
    "\n",
    "    # Randomly shuffle the students from Birmingham\n",
    "    # (This step is not really necessary — shuffling one array is enough to make the matching random.)\n",
    "    shuffled_birmingham = rnd.permuted(birmingham)\n",
    "\n",
    "    # Count in how many cases people landed with the same person as in the\n",
    "    # first round, and store in trial_results.\n",
    "    matches = np.sum(shuffled_berkeley == shuffled_birmingham)\n",
    "    trial_results[i] = matches\n",
    "\n",
    "# Count the number of times we got 4 or more people assigned to the same person\n",
    "k = np.sum(trial_results >= 4)\n",
    "\n",
    "# Convert to a proportion.\n",
    "kk = k / N\n",
    "\n",
    "# Print the result.\n",
    "print(kk)"
   ]
  },
  {
   "cell_type": "markdown",
   "id": "71c149a5",
   "metadata": {},
   "source": [
    "We see that in about 2 percent of the trials did 4 or more couples end\n",
    "up being re-paired with their own partners. This can also be seen from\n",
    "the histogram:"
   ]
  },
  {
   "cell_type": "code",
   "execution_count": null,
   "id": "403a8da4",
   "metadata": {},
   "outputs": [],
   "source": [
    "# Produce a histogram of trial results.\n",
    "plt.hist(trial_results, bins=range(10), align='left', rwidth=0.75)\n",
    "plt.title('Same pairs in round two');"
   ]
  }
 ],
 "metadata": {
  "jupytext": {
   "cell_metadata_filter": "-all",
   "main_language": "python",
   "notebook_metadata_filter": "-all"
  }
 },
 "nbformat": 4,
 "nbformat_minor": 5
}