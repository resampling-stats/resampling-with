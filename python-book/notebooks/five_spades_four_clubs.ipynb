{
 "cells": [
  {
   "cell_type": "markdown",
   "id": "ae3ecd81",
   "metadata": {},
   "source": [
    "# Five spades and four clubs"
   ]
  },
  {
   "cell_type": "markdown",
   "id": "b3f58076",
   "metadata": {},
   "source": [
    "**This is an example of multiple-outcome sampling without replacement,\n",
    "order does not matter**.\n",
    "\n",
    "The problem is similar to the example in\n",
    "<a href=\"#sec-four-girls-one-boy\" class=\"quarto-xref\"><span\n",
    "class=\"quarto-unresolved-ref\">sec-four-girls-one-boy</span></a>, except\n",
    "that now there are four equally-likely outcomes instead of only two. A\n",
    "Python solution is:"
   ]
  },
  {
   "cell_type": "code",
   "execution_count": null,
   "id": "24c3b1de",
   "metadata": {},
   "outputs": [],
   "source": [
    "import numpy as np\n",
    "\n",
    "rnd = np.random.default_rng()"
   ]
  },
  {
   "cell_type": "code",
   "execution_count": null,
   "id": "8fa167eb",
   "metadata": {},
   "outputs": [],
   "source": [
    "# Constitute the deck of 52 cards.\n",
    "# Repeat the suit names 13 times each, to make a 52 card deck.\n",
    "deck = np.repeat(['spade', 'club', 'diamond', 'heart'],\n",
    "                 [13, 13, 13, 13])\n",
    "# Show the deck\n",
    "deck"
   ]
  },
  {
   "cell_type": "code",
   "execution_count": null,
   "id": "782f9839",
   "metadata": {},
   "outputs": [],
   "source": [
    "N = 10000\n",
    "trial_results = np.zeros(N)\n",
    "\n",
    "# Repeat the trial N times.\n",
    "for i in range(N):\n",
    "\n",
    "    # Shuffle the deck and draw 13 cards.\n",
    "    hand = rnd.choice(deck, size=13, replace=False)\n",
    "\n",
    "    # Count the number of spades in \"hand\", put the result in \"n_spades\".\n",
    "    n_spades = np.sum(hand == 'spade')\n",
    "\n",
    "    # If we have five spades, we'll continue on to count the clubs. If we don't\n",
    "    # have five spades, the number of clubs is irrelevant — we have not gotten\n",
    "    # the hand we are interested in.\n",
    "    if n_spades == 5:\n",
    "        # Count the clubs, put the result in \"n_clubs\"\n",
    "        n_clubs = np.sum(hand == 'club')\n",
    "        # Keep track of the number of clubs in each trial\n",
    "        trial_results[i] = n_clubs\n",
    "\n",
    "    # End one experiment, go back and repeat until all N trials are done.\n",
    "\n",
    "# Count the number of trials where we got 4 clubs. This is the answer we want -\n",
    "# the number of hands out of 1000 with 5 spades and 4 clubs. (Recall that we\n",
    "# only counted the clubs if the hand already had 5 spades.)\n",
    "n_5_and_4 = np.sum(trial_results == 4)\n",
    "\n",
    "# Convert to a proportion.\n",
    "prop_5_and_4 = n_5_and_4 / N\n",
    "\n",
    "# Print the result\n",
    "print(prop_5_and_4)"
   ]
  }
 ],
 "metadata": {
  "jupytext": {
   "cell_metadata_filter": "-all",
   "main_language": "python",
   "notebook_metadata_filter": "-all"
  }
 },
 "nbformat": 4,
 "nbformat_minor": 5
}