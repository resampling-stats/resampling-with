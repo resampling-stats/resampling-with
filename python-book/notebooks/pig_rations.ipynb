{
 "cells": [
  {
   "cell_type": "markdown",
   "id": "35a2b3cb",
   "metadata": {},
   "source": [
    "# Weight gain on pig rations"
   ]
  },
  {
   "cell_type": "markdown",
   "id": "8e8c9de3",
   "metadata": {},
   "source": [
    "We do a simulation of weight gain ranks for two different pig rations.\n",
    "\n",
    "The `ranks = np.arange(1, 25)` statement creates an array of numbers 1\n",
    "through 24, which will represent the rankings of weight gains for each\n",
    "of the 24 pigs. We repeat the following procedure for 10000 trials.\n",
    "First we shuffle the elements of array `ranks` so that the rank numbers\n",
    "for weight gains are randomized and placed in array `shuffled`. We then\n",
    "select the first 12 elements of `shuffled` and place them in `first_12`;\n",
    "this represents the rankings of a randomly-selected group of 12 pigs. We\n",
    "next count (`sum`) in `n_top` the number of pigs whose rankings for\n",
    "weight gain were in the top half — that is, a rank of less than 13. We\n",
    "record that number in `top_ranks`, and then continue the loop, until we\n",
    "finish our `n` trials.\n",
    "\n",
    "Since we did not know beforehand the direction of the effect of ration A\n",
    "on weight gain, we want to count the times that *either more than 8* of\n",
    "the random selection of 12 pigs were in the top half of the rankings,\n",
    "*or that fewer than 4* of these pigs were in the top half of the weight\n",
    "gain rankings — (The latter is the same as counting the number of times\n",
    "that more than 8 of the 12 *non-selected* random pigs were in the top\n",
    "half in weight gain.)\n",
    "\n",
    "We do so with the final two `sum` statements. By adding the two results\n",
    "`n_gte_9` and `n_lte_3` together, we have the number of times out of\n",
    "10,000 that differences in weight gains in two groups as dramatic as\n",
    "those obtained in the actual experiment would occur by chance."
   ]
  },
  {
   "cell_type": "code",
   "execution_count": null,
   "id": "bc1d8ade",
   "metadata": {},
   "outputs": [],
   "source": [
    "import numpy as np\n",
    "\n",
    "rnd = np.random.default_rng()\n",
    "\n",
    "# Constitute the set of the weight gain rank orders. ranks is now a vector\n",
    "# consisting of the numbers 1 — 24, in that order.\n",
    "ranks = np.arange(1, 25)\n",
    "\n",
    "n = 10_000\n",
    "\n",
    "top_ranks = np.zeros(n, dtype=int)\n",
    "\n",
    "for i in range(n):\n",
    "    # Shuffle the ranks of the weight gains.\n",
    "    shuffled = rnd.permuted(ranks)\n",
    "    # Take the first 12 ranks.\n",
    "    first_12 = shuffled[:12]\n",
    "    # Determine how many of these randomly selected 12 ranks are less than\n",
    "    # 12 (i.e. 1-12), put that result in n_top.\n",
    "    n_top = np.sum(first_12 <= 12)\n",
    "    # Keep track of each trial result in top_ranks\n",
    "    top_ranks[i] = n_top\n",
    "\n",
    "plt.hist(top_ranks, bins=np.arange(1, 12))\n",
    "plt.title('Number of top 12 ranks in pig-ration trials')"
   ]
  },
  {
   "cell_type": "markdown",
   "id": "774ff4dc",
   "metadata": {},
   "source": [
    "We see from the histogram that, in about 3 percent of the trials, either\n",
    "more than 8 or fewer than 4 top half ranks (1-12) made it into the\n",
    "random group of twelve that we selected. Python will calculate this for\n",
    "us as follows:"
   ]
  },
  {
   "cell_type": "code",
   "execution_count": null,
   "id": "5139f75c",
   "metadata": {},
   "outputs": [],
   "source": [
    "# Determine how many of the trials yielded 9 or more top ranks.\n",
    "n_gte_9 = np.sum(top_ranks >= 9)\n",
    "# Determine how many trials yielded 3 or fewer of the top ranks.\n",
    "# If there were 3 or fewer, then 9 or more of the top ranks must\n",
    "# have been in the other group (not selected).\n",
    "n_lte_3 = np.sum(top_ranks <= 3)\n",
    "# Add the two together.\n",
    "n_both = n_gte_9 + n_lte_3\n",
    "# Convert to a proportion.\n",
    "prop_both = n_both / n\n",
    "\n",
    "print('Trial proportion >=9 top ranks in either group:',\n",
    "      np.round(prop_both, 2))"
   ]
  },
  {
   "cell_type": "markdown",
   "id": "287e7303",
   "metadata": {},
   "source": [
    "The decisions that are warranted on the basis of the results depend upon\n",
    "one’s purpose. If writing a scientific paper on the merits of ration A\n",
    "is the ultimate purpose, it would be sensible to test another batch of\n",
    "pigs to get further evidence. (Or you could proceed to employ another\n",
    "sort of test for a slightly more precise evaluation.) But if the goal is\n",
    "a decision on which type of ration to buy for a small farm and they are\n",
    "the same price, just go ahead and buy ration A because, even if it is no\n",
    "better than ration B, you have strong evidence that it is *no worse* ."
   ]
  }
 ],
 "metadata": {
  "jupytext": {
   "cell_metadata_filter": "-all",
   "main_language": "python",
   "notebook_metadata_filter": "-all"
  }
 },
 "nbformat": 4,
 "nbformat_minor": 5
}