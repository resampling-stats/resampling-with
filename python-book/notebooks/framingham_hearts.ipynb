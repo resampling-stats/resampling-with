{
 "cells": [
  {
   "cell_type": "markdown",
   "id": "f6b053c0",
   "metadata": {},
   "source": [
    "# Framingham heart data"
   ]
  },
  {
   "cell_type": "markdown",
   "id": "1146b61d",
   "metadata": {},
   "source": [
    "We use simulation to investigate the relationship between serum\n",
    "cholesterol and heart attacks in the Framingham data."
   ]
  },
  {
   "cell_type": "code",
   "execution_count": null,
   "id": "1efcf1c1",
   "metadata": {},
   "outputs": [],
   "source": [
    "import numpy as np\n",
    "\n",
    "rnd = np.random.default_rng()\n",
    "\n",
    "n = 10_0005\n",
    "men = np.repeat(['infarction', 'no infarction'], [31, 574])\n",
    "\n",
    "n_high = 135  # Number of men with high cholesterol\n",
    "n_low = 470  # Number of men with low cholesterol\n",
    "\n",
    "infarct_differences = np.zeros(n)\n",
    "\n",
    "for i in range(n):\n",
    "    highs = rnd.choice(men, size=n_high)\n",
    "    lows = rnd.choice(men, size=n_low)\n",
    "    high_infarcts = np.sum(highs == 'infarction')\n",
    "    low_infarcts = np.sum(lows == 'infarction')\n",
    "    high_prop = high_infarcts / n_high\n",
    "    low_prop = low_infarcts / n_low\n",
    "    infarct_differences[i] = high_prop - low_prop\n",
    "\n",
    "plt.hist(infarct_differences, bins=np.arange(-0.1, 0.1, 0.005))\n",
    "plt.title('Infarct proportion differences in null universe')\n",
    "\n",
    "# How often was the resampled difference >= the observed difference?\n",
    "k = np.sum(infarct_differences >= 0.029)\n",
    "# Convert this result to a proportion\n",
    "kk = k / n\n",
    "\n",
    "print('Proportion of trials with difference >= observed:',\n",
    "      np.round(kk, 2))"
   ]
  },
  {
   "cell_type": "markdown",
   "id": "ddffc081",
   "metadata": {},
   "source": [
    "The results of the test using this program may be seen in the histogram.\n",
    "We find — perhaps surprisingly — that a difference as large as observed\n",
    "would occur by chance around 10 percent of the time. (If we were not\n",
    "guided by the theoretical expectation that high serum cholesterol\n",
    "produces heart disease, we might include the 10 percent difference going\n",
    "in the other direction, giving a 20 percent chance). Even a ten percent\n",
    "chance is sufficient to call into question the conclusion that high\n",
    "serum cholesterol is dangerous. At a minimum, this statistical result\n",
    "should call for more research before taking any strong action clinically\n",
    "or otherwise."
   ]
  }
 ],
 "metadata": {
  "jupytext": {
   "cell_metadata_filter": "-all",
   "main_language": "python",
   "notebook_metadata_filter": "-all"
  }
 },
 "nbformat": 4,
 "nbformat_minor": 5
}