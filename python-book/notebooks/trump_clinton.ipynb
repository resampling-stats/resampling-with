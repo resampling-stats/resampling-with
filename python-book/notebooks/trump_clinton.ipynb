{
 "cells": [
  {
   "cell_type": "markdown",
   "id": "8b098d8f",
   "metadata": {},
   "source": [
    "# Trump/Clinton poll simulation"
   ]
  },
  {
   "cell_type": "markdown",
   "id": "b5ee27dd",
   "metadata": {},
   "source": [
    "What is the probability that a sample outcome such as actually observed\n",
    "(840 Trump, 660 Clinton) would occur by chance if Clinton is “really”\n",
    "ahead — that is, if Clinton has 50 percent (or more) of the support? To\n",
    "restate in sharper statistical language: What is the probability that\n",
    "the observed sample or one even more favorable to Trump would occur if\n",
    "the universe has a mean of 50 percent or below?\n",
    "\n",
    "Here is a procedure that responds to that question:\n",
    "\n",
    "1.  Create a benchmark universe with one ball marked “Trump” and another\n",
    "    marked “Clinton”\n",
    "2.  Draw a ball, record its marking, and replace. (We sample with\n",
    "    replacement to simulate the practically-infinite population of U. S.\n",
    "    voters.)\n",
    "3.  Repeat step 2 1500 times and count the number of “Trump”s. If 840 or\n",
    "    greater, record “Y”; otherwise, record “N.”\n",
    "4.  Repeat steps 3 and 4 perhaps 1000 or 10,000 times, and count the\n",
    "    number of “Y”s. The outcome estimates the probability that 840 or\n",
    "    more Trump choices would occur if the universe is “really” half or\n",
    "    more in favor of Clinton.\n",
    "\n",
    "This procedure may be done as follows with Python."
   ]
  },
  {
   "cell_type": "code",
   "execution_count": null,
   "id": "8f00d659",
   "metadata": {},
   "outputs": [],
   "source": [
    "import numpy as np\n",
    "\n",
    "rnd = np.random.default_rng()\n",
    "\n",
    "# Number of repeats we will run.\n",
    "n = 10_000\n",
    "\n",
    "# Make an integer array to store the counts.\n",
    "trumps = np.zeros(n, dtype=int)\n",
    "\n",
    "for i in range(n):\n",
    "    votes = rnd.choice(['Trump', 'Clinton'], size=1500)\n",
    "    trumps[i] = np.sum(votes == 'Trump')\n",
    "\n",
    "# Integer bins from 670 through 830 in steps of 5.\n",
    "plt.hist(trumps, bins=range(670, 831, 5))\n",
    "plt.title('Number of Trump voters of 1500 in null-world simulation')\n",
    "\n",
    "# How often >= 840 Trump votes in random draw?\n",
    "k = np.sum(trumps >= 840)\n",
    "# As a proportion of simulated resamples.\n",
    "kk = k / n\n",
    "\n",
    "print('Proportion voting for Trump:', kk)"
   ]
  },
  {
   "cell_type": "markdown",
   "id": "586a2f4c",
   "metadata": {},
   "source": [
    "The value for `kk` is our estimate of the probability that Trump’s\n",
    "“victory” in the sample would occur by chance if he really were behind.\n",
    "In this case, our probability estimate is less than 1 in 10,000 (\\<\n",
    "0.0001)."
   ]
  }
 ],
 "metadata": {
  "jupytext": {
   "cell_metadata_filter": "-all",
   "main_language": "python",
   "notebook_metadata_filter": "-all"
  }
 },
 "nbformat": 4,
 "nbformat_minor": 5
}