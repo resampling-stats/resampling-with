{
 "cells": [
  {
   "cell_type": "markdown",
   "id": "ea91fda9",
   "metadata": {},
   "source": [
    "# Billie's Bill"
   ]
  },
  {
   "cell_type": "markdown",
   "id": "56950f75",
   "metadata": {},
   "source": [
    "The text in this notebook section assumes you have opened the page as an\n",
    "interactive notebook, on your own computer, or one of the Jupyter web\n",
    "interfaces.\n",
    "\n",
    "A notebook can contain blocks of text — like this one — as well as code,\n",
    "and the results from running the code.\n",
    "\n",
    "Jupyter Notebooks are made up of *cells*. This is a cell with text — a\n",
    "text cell.\n",
    "\n",
    "Notebook text can have formatting, such as links.\n",
    "\n",
    "For example, this sentence ends with a link to the earlier [second\n",
    "edition of this\n",
    "book](https://resample.statistics.com/intro-text-online).\n",
    "\n",
    "If you are in the notebook interface (rather than reading this in the\n",
    "textbook), you will see the Jupyter menu near the top of the page, with\n",
    "headings “File”, “Edit” and so on.\n",
    "\n",
    "Underneath that, by default, you may see a row of icons - the “Toolbar”.\n",
    "\n",
    "In the toolbar, you may see icons to run the current cell, among others.\n",
    "\n",
    "To move from one cell to the next, you can click the run icon in the\n",
    "toolbar, but it is more efficient to press the Shift key, and press\n",
    "Enter (with Shift still held down). We will write this as Shift-Enter.\n",
    "\n",
    "In this, our first notebook, we will be using Python to solve one of\n",
    "those difficult and troubling problems in life — working out the bill in\n",
    "a restaurant.\n",
    "\n",
    "## 4.4 The meal in question\n",
    "\n",
    "Alex and Billie are at a restaurant, getting ready to order. They do not\n",
    "have much money, so they are calculating the expected bill before they\n",
    "order.\n",
    "\n",
    "Alex is thinking of having the fish for £10.50, and Billie is leaning\n",
    "towards the chicken, at £9.25. First they calculate their combined bill.\n",
    "\n",
    "Below this text you see a *code* cell. It contains the Python code to\n",
    "calculate the total bill. Press Shift-Enter in the cell below, to see\n",
    "the total."
   ]
  },
  {
   "cell_type": "code",
   "execution_count": null,
   "id": "c99d86bd",
   "metadata": {},
   "outputs": [],
   "source": [
    "10.50 + 9.25"
   ]
  },
  {
   "cell_type": "markdown",
   "id": "ae7feec7",
   "metadata": {},
   "source": [
    "The contents of the cell above is Python code. As you would predict,\n",
    "Python understands numbers like `10.50`, and it understands `+` between\n",
    "the numbers as an instruction to add the numbers.\n",
    "\n",
    "When you press Shift-Enter, Python finds `10.50`, realizes it is a\n",
    "number, and stores that number somewhere in memory. It does the same\n",
    "thing for `9.25`, and then it runs the *addition* operation on these two\n",
    "numbers in memory, which gives the number 19.75.\n",
    "\n",
    "Finally, Python sends the resulting number (19.75) back to the notebook\n",
    "for display. The notebook detects that Python sent back a value, and\n",
    "shows it to us.\n",
    "\n",
    "This is exactly what a calculator would do.\n",
    "\n",
    "## 4.5 Comments\n",
    "\n",
    "Unlike a calculator, we can also put notes next to our calculations, to\n",
    "remind us what they are for. One way of doing this is to use a\n",
    "“comment”. You have already seen comments in the previous chapter.\n",
    "\n",
    "A comment is some text that the computer will ignore. In Python, you can\n",
    "make a comment by starting a line with the `#` (hash) character. For\n",
    "example, the next cell is a code cell, but when you run it, it does not\n",
    "show any result. In this case, that is because the computer sees the `#`\n",
    "at the beginning of the line, and then ignores the rest."
   ]
  },
  {
   "cell_type": "code",
   "execution_count": null,
   "id": "477ac822",
   "metadata": {},
   "outputs": [],
   "source": [
    "# This bit of text is for me to read, and the computer to ignore."
   ]
  },
  {
   "cell_type": "markdown",
   "id": "501fd3c6",
   "metadata": {},
   "source": [
    "Many of the code cells you see will have comments in them, to explain\n",
    "what the code is doing.\n",
    "\n",
    "Practice writing comments for your own code. It is a very good habit to\n",
    "get into. You will find that experienced programmers write many comments\n",
    "on their code. They do not do this to show off, but because they have a\n",
    "lot of experience in reading code, and they know that comments make it\n",
    "much easier to read and understand code.\n",
    "\n",
    "## 4.6 More calculations\n",
    "\n",
    "Let us continue with the struggle that Alex and Billie are having with\n",
    "their bill.\n",
    "\n",
    "They realize that they will also need to pay a tip.\n",
    "\n",
    "They think it would be reasonable to leave a 15% tip. Now they need to\n",
    "multiply their total bill by 0.15, to get the tip. The bill is about\n",
    "£20, so they know that the tip will be about £3.\n",
    "\n",
    "In Python `*` means multiplication. This is the equivalent of the “×”\n",
    "key on a calculator.\n",
    "\n",
    "What about this, for the correct calculation?"
   ]
  },
  {
   "cell_type": "code",
   "execution_count": null,
   "id": "942d0bf4",
   "metadata": {},
   "outputs": [],
   "source": [
    "# The tip - with a nasty mistake.\n",
    "10.50 + 9.25 * 0.15"
   ]
  },
  {
   "cell_type": "markdown",
   "id": "ee86b2c9",
   "metadata": {},
   "source": [
    "Oh dear, no, that isn’t doing the right calculation.\n",
    "\n",
    "Python follows the normal rules of *precedence* with calculations. These\n",
    "rules tell us to do multiplication before addition.\n",
    "\n",
    "See <https://en.wikipedia.org/wiki/Order_of_operations> for more detail\n",
    "on the standard rules.\n",
    "\n",
    "In the case above the rules tell Python to first calculate `9.25 * 0.15`\n",
    "(to get `1.3875`) and then to add the result to `10.50`, giving\n",
    "`11.8875`.\n",
    "\n",
    "We need to tell Python we want it to do the *addition* and *then* the\n",
    "multiplication. We do this with round brackets (parentheses):\n",
    "\n",
    "<div class=\"callout callout-style-default callout-note callout-titled\">\n",
    "\n",
    "<div class=\"callout-header d-flex align-content-center\">\n",
    "\n",
    "<div class=\"callout-icon-container\">\n",
    "\n",
    "<i class='callout-icon'></i>\n",
    "\n",
    "</div>\n",
    "\n",
    "<div class=\"callout-title-container flex-fill\">\n",
    "\n",
    "</div>\n",
    "\n",
    "</div>\n",
    "\n",
    "<div class=\"callout-body-container callout-body\">\n",
    "\n",
    "There are three types of brackets in Python.\n",
    "\n",
    "These are:\n",
    "\n",
    "- *round brackets* or *parentheses*: `()`;\n",
    "- *square brackets*: `[]`;\n",
    "- *curly brackets*: `{}`.\n",
    "\n",
    "Each type of bracket has a different meaning in Python. In the examples,\n",
    "play close to attention to the type of brackets we are using.\n",
    "\n",
    "</div>\n",
    "\n",
    "</div>"
   ]
  },
  {
   "cell_type": "code",
   "execution_count": null,
   "id": "cb070b90",
   "metadata": {},
   "outputs": [],
   "source": [
    "# The bill plus tip - mistake fixed.\n",
    "(10.50 + 9.25) * 0.15"
   ]
  },
  {
   "cell_type": "markdown",
   "id": "abbaa4ab",
   "metadata": {},
   "source": [
    "The obvious next step is to calculate the bill *including the tip*."
   ]
  },
  {
   "cell_type": "code",
   "execution_count": null,
   "id": "29355051",
   "metadata": {},
   "outputs": [],
   "source": [
    "# The bill, including the tip\n",
    "10.50 + 9.25 + (10.50 + 9.25) * 0.15"
   ]
  },
  {
   "cell_type": "markdown",
   "id": "7955f106",
   "metadata": {},
   "source": [
    "At this stage we start to feel that we are doing too much typing. Notice\n",
    "that we had to type out `10.50 + 9.25` twice there. That is a little\n",
    "boring, but it also makes it easier to make mistakes. The more we have\n",
    "to type, the greater the chance we have to make a mistake.\n",
    "\n",
    "To make things simpler, we would like to be able to *store* the result\n",
    "of the calculation `10.50 + 9.25`, and then re-use this value, to\n",
    "calculate the tip.\n",
    "\n",
    "This is the role of *variables*. A *variable* is a value with a name.\n",
    "\n",
    "Here is a variable:"
   ]
  },
  {
   "cell_type": "code",
   "execution_count": null,
   "id": "9b0a8479",
   "metadata": {},
   "outputs": [],
   "source": [
    "# The cost of Alex's meal.\n",
    "a = 10.50"
   ]
  },
  {
   "cell_type": "markdown",
   "id": "9f35d001",
   "metadata": {},
   "source": [
    "`a` is a *name* we give to the value 10.50. You can read the line above\n",
    "as “The variable `a` *gets the value* 10.50”. We can also talk of\n",
    "*setting* the variable. Here we are *setting* `a` to equal 10.50.\n",
    "\n",
    "Now, when we use `a` in code, it refers to the value we gave it. For\n",
    "example, we can put `a` on a line on its own, and Python will show us\n",
    "the *value* of `a`:"
   ]
  },
  {
   "cell_type": "code",
   "execution_count": null,
   "id": "29c192ba",
   "metadata": {},
   "outputs": [],
   "source": [
    "# The value of a\n",
    "a"
   ]
  },
  {
   "cell_type": "markdown",
   "id": "1e673882",
   "metadata": {},
   "source": [
    "We did not have to use the name `a` — we can choose almost any name we\n",
    "like. For example, we could have chosen `alex_meal` instead:"
   ]
  },
  {
   "cell_type": "code",
   "execution_count": null,
   "id": "f6b503ba",
   "metadata": {},
   "outputs": [],
   "source": [
    "# The cost of Alex's meal.\n",
    "# alex_meal gets the value 10.50\n",
    "alex_meal = 10.50"
   ]
  },
  {
   "cell_type": "markdown",
   "id": "0242de18",
   "metadata": {},
   "source": [
    "We often set variables like this, and then display the result, all in\n",
    "the same cell. We do this by first setting the variable, as above, and\n",
    "then, on the final line of the cell, we put the variable name on a line\n",
    "on its own, to ask Python to show us the value of the variable. Here we\n",
    "set `billie_meal` to have the value 9.25, and then show the value of\n",
    "`billie_meal`, all in the same cell."
   ]
  },
  {
   "cell_type": "code",
   "execution_count": null,
   "id": "10856303",
   "metadata": {},
   "outputs": [],
   "source": [
    "# The cost of Billie's meal.\n",
    "billie_meal = 9.25\n",
    "# Show the value of billies_meal\n",
    "billie_meal"
   ]
  },
  {
   "cell_type": "markdown",
   "id": "06bcd00a",
   "metadata": {},
   "source": [
    "Of course, here, we did not learn much, but we often set variable values\n",
    "with the results of a calculation. For example:"
   ]
  },
  {
   "cell_type": "code",
   "execution_count": null,
   "id": "75cda36a",
   "metadata": {},
   "outputs": [],
   "source": [
    "# The cost of both meals, before tip.\n",
    "bill_before_tip = 10.50 + 9.25\n",
    "# Show the value of both meals.\n",
    "bill_before_tip"
   ]
  },
  {
   "cell_type": "markdown",
   "id": "0c15e030",
   "metadata": {},
   "source": [
    "But wait — we can do better than typing in the calculation like this. We\n",
    "can use the values of our variables, instead of typing in the values\n",
    "again."
   ]
  },
  {
   "cell_type": "code",
   "execution_count": null,
   "id": "3cc3333b",
   "metadata": {},
   "outputs": [],
   "source": [
    "# The cost of both meals, before tip, using variables.\n",
    "bill_before_tip = alex_meal + billie_meal\n",
    "# Show the value of both meals.\n",
    "bill_before_tip"
   ]
  },
  {
   "cell_type": "markdown",
   "id": "ff2dc3d7",
   "metadata": {},
   "source": [
    "We make the calculation clearer by writing the calculation this way — we\n",
    "are calculating the bill before the tip by adding the cost of Alex’s and\n",
    "Billie’s meal — and that’s what the code looks like. But this also\n",
    "allows us to *change* the variable value, and recalculate. For example,\n",
    "say Alex decided to go for the hummus plate, at £7.75. Now we can tell\n",
    "Python that we want `alex_meal` to have the value 7.75 instead of 10.50:"
   ]
  },
  {
   "cell_type": "code",
   "execution_count": null,
   "id": "af8db748",
   "metadata": {},
   "outputs": [],
   "source": [
    "# The new cost of Alex's meal.\n",
    "# alex_meal gets the value 7.75\n",
    "alex_meal = 7.75\n",
    "# Show the value of alex_meal\n",
    "alex_meal"
   ]
  },
  {
   "cell_type": "markdown",
   "id": "70c9474f",
   "metadata": {},
   "source": [
    "Notice that `alex_meal` now has a new value. It was 10.50, but now it is\n",
    "7.75. We have *reset* the value of `alex_meal`. In order to use the new\n",
    "value for `alex_meal`, we must *recalculate* the bill before tip with\n",
    "*exactly the same code as before*:"
   ]
  },
  {
   "cell_type": "code",
   "execution_count": null,
   "id": "ea53eaad",
   "metadata": {},
   "outputs": [],
   "source": [
    "# The new cost of both meals, before tip.\n",
    "bill_before_tip = alex_meal + billie_meal\n",
    "# Show the value of both meals.\n",
    "bill_before_tip"
   ]
  },
  {
   "cell_type": "markdown",
   "id": "27048f01",
   "metadata": {},
   "source": [
    "Notice that, now we have rerun this calculation, we have *reset* the\n",
    "value for `bill_before_tip` to the correct value corresponding to the\n",
    "new value for `alex_meal`.\n",
    "\n",
    "All that remains is to recalculate the bill plus tip, using the new\n",
    "value for the variable:"
   ]
  },
  {
   "cell_type": "code",
   "execution_count": null,
   "id": "39389b0d",
   "metadata": {},
   "outputs": [],
   "source": [
    "# The cost of both meals, after tip.\n",
    "bill_after_tip = bill_before_tip + bill_before_tip * 0.15\n",
    "# Show the value of both meals, after tip.\n",
    "bill_after_tip"
   ]
  },
  {
   "cell_type": "markdown",
   "id": "21998ff6",
   "metadata": {},
   "source": [
    "Now we are using variables with relevant names, the calculation looks\n",
    "right to our eye. The code expresses the calculation as we mean it: the\n",
    "bill after tip is equal to the bill before the tip, plus the bill before\n",
    "the tip times 0.15.\n",
    "\n",
    "## 4.7 And so, on\n",
    "\n",
    "Now you have done some practice with the notebook, and with variables,\n",
    "you are ready for a new problem in probability and statistics, in the\n",
    "next chapter."
   ]
  }
 ],
 "metadata": {
  "jupytext": {
   "cell_metadata_filter": "-all",
   "main_language": "python",
   "notebook_metadata_filter": "-all"
  }
 },
 "nbformat": 4,
 "nbformat_minor": 5
}