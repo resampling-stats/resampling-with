{
 "cells": [
  {
   "cell_type": "markdown",
   "id": "55b0d96d",
   "metadata": {},
   "source": [
    "# Simulating the pennies game"
   ]
  },
  {
   "cell_type": "markdown",
   "id": "29c1dc43",
   "metadata": {},
   "source": [
    "This notebook calculates the probability that one player will run out of\n",
    "pennies within 200 turns of the Pennies game."
   ]
  },
  {
   "cell_type": "code",
   "execution_count": null,
   "id": "3d2e5a6d",
   "metadata": {},
   "outputs": [],
   "source": [
    "import numpy as np\n",
    "rnd = np.random.default_rng()"
   ]
  },
  {
   "cell_type": "code",
   "execution_count": null,
   "id": "9f1f56a5",
   "metadata": {},
   "outputs": [],
   "source": [
    "someone_won = np.zeros(10000)\n",
    "\n",
    "# Do 10000 trials\n",
    "for i in range(10000):\n",
    "\n",
    "    # Record the number 10: a's stake\n",
    "    a_stake = 10\n",
    "\n",
    "    # Same for b\n",
    "    b_stake = 10\n",
    "\n",
    "    # An indicator flag that will be set to \"1\" when somebody wins.\n",
    "    flag = 0\n",
    "\n",
    "    # Repeat the following steps 200 times.\n",
    "    # Notice we use \"j\" as the counter variable, to avoid overwriting\n",
    "    # \"i\", the counter variable for the 10000 trials.\n",
    "    for j in range(200):\n",
    "        # Generate the equivalent of a coin flip, letting 1 = heads,\n",
    "        # 2 = tails\n",
    "        c = rnd.integers(1, 3)\n",
    "\n",
    "        # If it's a heads\n",
    "        if c == 1:\n",
    "\n",
    "            # Add 1 to b's stake\n",
    "            b_stake = b_stake + 1\n",
    "\n",
    "            # Subtract 1 from a's stake\n",
    "            a_stake = a_stake - 1\n",
    "\n",
    "        # End the \"if\" condition\n",
    "\n",
    "        # If it's a tails\n",
    "        if c == 2:\n",
    "\n",
    "            # Add one to a's stake\n",
    "            a_stake = a_stake + 1\n",
    "\n",
    "            # Subtract 1 from b's stake\n",
    "            b_stake = b_stake - 1\n",
    "\n",
    "        # End the \"if\" condition\n",
    "\n",
    "        # If a has won\n",
    "        if a_stake == 20:\n",
    "\n",
    "            # Set the indicator flag to 1\n",
    "            flag = 1\n",
    "\n",
    "        # If b has won\n",
    "        if b_stake == 20:\n",
    "\n",
    "            # Set the indicator flag to 1\n",
    "            flag = 1\n",
    "\n",
    "    # End the repeat loop for 200 plays (note that the indicator flag stays at\n",
    "    # 0 if neither a nor b has won)\n",
    "\n",
    "    # Keep track of whether anybody won\n",
    "    someone_won[i] = flag\n",
    "\n",
    "# End the 10000 trials\n",
    "\n",
    "# Find out how often somebody won\n",
    "n_wins = np.sum(someone_won)\n",
    "\n",
    "# Convert to a proportion\n",
    "prop_wins = n_wins / 10000\n",
    "\n",
    "# Print the results\n",
    "print(prop_wins)"
   ]
  }
 ],
 "metadata": {
  "jupytext": {
   "cell_metadata_filter": "-all",
   "main_language": "python",
   "notebook_metadata_filter": "-all"
  }
 },
 "nbformat": 4,
 "nbformat_minor": 5
}