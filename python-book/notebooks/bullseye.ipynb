{
 "cells": [
  {
   "cell_type": "markdown",
   "id": "62bb9fa8",
   "metadata": {},
   "source": [
    "# Bullseye"
   ]
  },
  {
   "cell_type": "markdown",
   "id": "2af5447a",
   "metadata": {},
   "source": [
    "This notebook solves the “bullseye” problem: assume from past experience\n",
    "that a given archer puts 10 percent of his shots in the black\n",
    "(“bullseye”) and 60 percent of his shots in the white ring around the\n",
    "bullseye, but misses with 30 percent of his shots. How likely is it that\n",
    "in three shots the shooter will get exactly one bullseye, two in the\n",
    "white, and no misses?"
   ]
  },
  {
   "cell_type": "code",
   "execution_count": null,
   "id": "8d6c97ea",
   "metadata": {},
   "outputs": [],
   "source": [
    "import numpy as np\n",
    "rnd = np.random.default_rng()"
   ]
  },
  {
   "cell_type": "code",
   "execution_count": null,
   "id": "360a9005",
   "metadata": {},
   "outputs": [],
   "source": [
    "# Make an array to store the results of each trial.\n",
    "white_counts = np.zeros(10000)\n",
    "\n",
    "# Do 10000 experimental trials\n",
    "for i in range(10000):\n",
    "\n",
    "    # To represent 3 shots, generate 3 numbers at random between \"1\" and \"10\"\n",
    "    # and put them in a. We will let a \"1\" denote a bullseye, \"2\"-\"7\" a shot in\n",
    "    # the white, and \"8\"-\"10\" a miss.\n",
    "    a = rnd.integers(1, 11, size=3)\n",
    "\n",
    "    # Count the number of bullseyes, put that result in b.\n",
    "    b = np.sum(a == 1)\n",
    "\n",
    "    # If there is exactly one bullseye, we will continue with counting the\n",
    "    # other shots. (If there are no bullseyes, we need not bother — the\n",
    "    # outcome we are interested in has not occurred.)\n",
    "    if b == 1:\n",
    "\n",
    "        # Count the number of shots in the white, put them in c. (Recall we are\n",
    "        # doing this only if we got one bullseye.)\n",
    "        c = np.sum((a >= 2) & (a <=7))\n",
    "\n",
    "        # Keep track of the results of this second count.\n",
    "        white_counts[i] = c\n",
    "\n",
    "        # End the \"if\" sequence — we will do the following steps without regard\n",
    "        # to the \"if\" condition.\n",
    "\n",
    "    # End the above experiment and repeat it until 10000 repetitions are\n",
    "    # complete, then continue.\n",
    "\n",
    "# Count the number of occasions on which there are two in the white and a\n",
    "# bullseye.\n",
    "n_desired = np.sum(white_counts == 2)\n",
    "\n",
    "# Convert to a proportion.\n",
    "prop_desired = n_desired / 10000\n",
    "\n",
    "# Print the results.\n",
    "print(prop_desired)"
   ]
  }
 ],
 "metadata": {
  "jupytext": {
   "cell_metadata_filter": "-all",
   "main_language": "python",
   "notebook_metadata_filter": "-all"
  }
 },
 "nbformat": 4,
 "nbformat_minor": 5
}