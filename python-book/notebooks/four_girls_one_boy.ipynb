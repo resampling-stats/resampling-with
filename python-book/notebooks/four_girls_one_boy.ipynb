{
 "cells": [
  {
   "cell_type": "markdown",
   "id": "f9ca80c5",
   "metadata": {},
   "source": [
    "# Four girls and one boy"
   ]
  },
  {
   "cell_type": "markdown",
   "id": "d62349c8",
   "metadata": {},
   "source": [
    "What is the probability of selecting four girls and one boy when\n",
    "selecting five students from any group of twenty-five girls and\n",
    "twenty-five boys?"
   ]
  },
  {
   "cell_type": "code",
   "execution_count": null,
   "id": "070d7ef9",
   "metadata": {},
   "outputs": [],
   "source": [
    "import numpy as np\n",
    "\n",
    "rnd = np.random.default_rng()"
   ]
  },
  {
   "cell_type": "code",
   "execution_count": null,
   "id": "d7001867",
   "metadata": {},
   "outputs": [],
   "source": [
    "N = 10000\n",
    "trial_results = np.zeros(N)\n",
    "\n",
    "# Constitute the set of 25 girls and 25 boys.\n",
    "whole_class = np.repeat(['girl', 'boy'], [25, 25])\n",
    "\n",
    "# Repeat the following steps N times.\n",
    "for i in range(N):\n",
    "\n",
    "    # Shuffle the numbers\n",
    "    shuffled = rnd.permuted(whole_class)\n",
    "\n",
    "    # Take the first 5 numbers, call them c.\n",
    "    c = shuffled[:5]\n",
    "\n",
    "    # Count how many girls there are, put the result in d.\n",
    "    d = np.sum(c == 'girl')\n",
    "\n",
    "    # Keep track of each trial result in z.\n",
    "    trial_results[i] = d\n",
    "\n",
    "    # End the experiment, go back and repeat until all 1000 trials are\n",
    "    # complete.\n",
    "\n",
    "# Count the number of times we got four girls, put the result in k.\n",
    "k = np.sum(trial_results == 4)\n",
    "\n",
    "# Convert to a proportion.\n",
    "kk = k / N\n",
    "\n",
    "# Print the result.\n",
    "print(kk)"
   ]
  },
  {
   "cell_type": "markdown",
   "id": "e1033305",
   "metadata": {},
   "source": [
    "We can also find the probabilities of other outcomes from a histogram of\n",
    "trial results obtained with the following command:"
   ]
  },
  {
   "cell_type": "code",
   "execution_count": null,
   "id": "148cbf09",
   "metadata": {},
   "outputs": [],
   "source": [
    "# Import the plotting package.\n",
    "import matplotlib.pyplot as plt\n",
    "\n",
    "# Do histogram, with one bin for each possible number.\n",
    "plt.hist(trial_results, bins=range(7), align='left', rwidth=0.75)\n",
    "plt.title('# of girls');"
   ]
  },
  {
   "cell_type": "markdown",
   "id": "0066e64b",
   "metadata": {},
   "source": [
    "In the resulting histogram we can see that in 15 percent of the trials,\n",
    "4 of the 5 selected were girls.\n",
    "\n",
    "It should be noted that for this problem — as for most other problems —\n",
    "there are several other resampling procedures that will also do the job\n",
    "correctly.\n",
    "\n",
    "In analytic probability theory this problem is worked with a formula for\n",
    "“combinations.”"
   ]
  }
 ],
 "metadata": {
  "jupytext": {
   "cell_metadata_filter": "-all",
   "main_language": "python",
   "notebook_metadata_filter": "-all"
  }
 },
 "nbformat": 4,
 "nbformat_minor": 5
}