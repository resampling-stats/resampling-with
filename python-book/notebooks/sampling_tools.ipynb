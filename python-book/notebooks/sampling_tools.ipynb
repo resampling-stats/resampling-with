{
 "cells": [
  {
   "cell_type": "markdown",
   "id": "0050cfb4",
   "metadata": {},
   "source": [
    "# Sampling tools"
   ]
  },
  {
   "cell_type": "markdown",
   "id": "18e1de26",
   "metadata": {},
   "source": [
    "## 6.2 Samples and labels\n",
    "\n",
    "Thus far we have used numbers such as 1 and 0 and 10 to represent the\n",
    "elements we are sampling from. For example, in\n",
    "<a href=\"#sec-resampling-two\" class=\"quarto-xref\"><span\n",
    "class=\"quarto-unresolved-ref\">sec-resampling-two</span></a>, we were\n",
    "simulating the chance of a particular juror being black, given that 26%\n",
    "of the eligible jurors in the county were black. We used *integers* for\n",
    "that task, where we started with all the integers from 0 through 99, and\n",
    "asked NumPy to select values at random from those integers. When NumPy\n",
    "selected an integer from 0 through 25, we chose to label the resulting\n",
    "simulated juror as black — there are 26 integers in the range 0 through\n",
    "25, so there is a 26% chance that any one integer will be in that range.\n",
    "If the integer was from 26 through 99, the simulated juror was white\n",
    "(there are 74 integers in the range 26 through 99).\n",
    "\n",
    "Here is the process of simulating a single juror, adapted from\n",
    "<a href=\"#sec-random-zero-through-ninety-nine\" class=\"quarto-xref\"><span\n",
    "class=\"quarto-unresolved-ref\">sec-random-zero-through-ninety-nine</span></a>:"
   ]
  },
  {
   "cell_type": "code",
   "execution_count": null,
   "id": "174f07d9",
   "metadata": {},
   "outputs": [],
   "source": [
    "import numpy as np\n",
    "# Ask NumPy for a random number generator.\n",
    "rnd = np.random.default_rng()\n",
    "\n",
    "# All the integers from 0 up to, but not including 100.\n",
    "zero_thru_99 = np.arange(100)\n",
    "\n",
    "# Get one random numbers from 0 through 99\n",
    "a = rnd.choice(zero_thru_99)\n",
    "\n",
    "# Show the result\n",
    "a"
   ]
  },
  {
   "cell_type": "markdown",
   "id": "1eb1c81a",
   "metadata": {},
   "source": [
    "After that, we have to unpack our labeling of 0 through 25 as being\n",
    "“black” and 26 through 99 as being “white”. We might do that like this:"
   ]
  },
  {
   "cell_type": "code",
   "execution_count": null,
   "id": "bb1e44ec",
   "metadata": {},
   "outputs": [],
   "source": [
    "this_juror_is_black = a < 26\n",
    "this_juror_is_black"
   ]
  },
  {
   "cell_type": "markdown",
   "id": "d9b18a0d",
   "metadata": {},
   "source": [
    "This all works as we want it to, but it’s just a little bit difficult to\n",
    "remember the coding (less than 26 means “black”, greater than 25 means\n",
    "“white”). We had to use that coding because we committed ourselves to\n",
    "using random numbers to simulate the outcomes.\n",
    "\n",
    "However, Python can also store bits of text, called *strings*. Values\n",
    "that are bits of text can be very useful because the text values can be\n",
    "memorable labels for the entities we are sampling from, in our\n",
    "simulations.\n",
    "\n",
    "Before we get to strings, let us consider the different types of value\n",
    "we have seen so far.\n",
    "\n",
    "## 6.3 Types of values in Python\n",
    "\n",
    "You have already come across the idea that Python values can be integers\n",
    "(positive or negative whole numbers), like this:"
   ]
  },
  {
   "cell_type": "code",
   "execution_count": null,
   "id": "a3e13d9d",
   "metadata": {},
   "outputs": [],
   "source": [
    "v = 10\n",
    "v"
   ]
  },
  {
   "cell_type": "markdown",
   "id": "9cdaf21e",
   "metadata": {},
   "source": [
    "Here the variable `v` holds the value. We can see what type of value `v`\n",
    "holds by using the `type` function:"
   ]
  },
  {
   "cell_type": "code",
   "execution_count": null,
   "id": "1d7c2b6e",
   "metadata": {},
   "outputs": [],
   "source": [
    "type(v)"
   ]
  },
  {
   "cell_type": "markdown",
   "id": "6eaf0df2",
   "metadata": {},
   "source": [
    "As you may have noticed, Python can also have *floating point* values.\n",
    "These are values with a decimal point — so numbers that do not have to\n",
    "be integers, but can be any value between the integers. These floating\n",
    "points values are of type `float`:"
   ]
  },
  {
   "cell_type": "code",
   "execution_count": null,
   "id": "0a91104f",
   "metadata": {},
   "outputs": [],
   "source": [
    "f = 10.1\n",
    "type(f)"
   ]
  },
  {
   "cell_type": "markdown",
   "id": "aca9a301",
   "metadata": {},
   "source": [
    "### 6.3.1 Numpy arrays\n",
    "\n",
    "You have also seen that Numpy contains another type, the *array*. An\n",
    "array is a value that contains a sequence of values. For example, here\n",
    "is an array of integers:"
   ]
  },
  {
   "cell_type": "code",
   "execution_count": null,
   "id": "1e893d99",
   "metadata": {},
   "outputs": [],
   "source": [
    "arr = np.array([0, 10, 99, 4])\n",
    "arr"
   ]
  },
  {
   "cell_type": "markdown",
   "id": "147926b7",
   "metadata": {},
   "source": [
    "Notice that this value `arr` is of type `np.ndarray`:"
   ]
  },
  {
   "cell_type": "code",
   "execution_count": null,
   "id": "911eb7d9",
   "metadata": {},
   "outputs": [],
   "source": [
    "type(arr)"
   ]
  },
  {
   "cell_type": "markdown",
   "id": "7f9a1cd3",
   "metadata": {},
   "source": [
    "The array has its own internal record of what type of values it holds.\n",
    "This is called the array `dtype`:"
   ]
  },
  {
   "cell_type": "code",
   "execution_count": null,
   "id": "f6e7b5d0",
   "metadata": {},
   "outputs": [],
   "source": [
    "arr.dtype"
   ]
  },
  {
   "cell_type": "markdown",
   "id": "bdeaf809",
   "metadata": {},
   "source": [
    "The array `dtype` records the type of value stored in the array. All\n",
    "values in the array must be of this type, and all values in the array\n",
    "are therefore of the same type.\n",
    "\n",
    "The array above contains integers, but we can also make arrays\n",
    "containing floating point values:"
   ]
  },
  {
   "cell_type": "code",
   "execution_count": null,
   "id": "1bb280ef",
   "metadata": {},
   "outputs": [],
   "source": [
    "float_arr = np.array([0.1, 10.1, 99.0, 4.3])\n",
    "float_arr"
   ]
  },
  {
   "cell_type": "code",
   "execution_count": null,
   "id": "c4211c72",
   "metadata": {},
   "outputs": [],
   "source": [
    "float_arr.dtype"
   ]
  },
  {
   "cell_type": "markdown",
   "id": "3ae72cf0",
   "metadata": {},
   "source": [
    "### 6.3.2 Lists\n",
    "\n",
    "We have elided past another Python type, the *list*. In fact we have\n",
    "already used lists in making arrays. For example, here we make an array\n",
    "with four values:"
   ]
  },
  {
   "cell_type": "code",
   "execution_count": null,
   "id": "7dc4e80a",
   "metadata": {},
   "outputs": [],
   "source": [
    "np.array([0, 10, 99, 4])"
   ]
  },
  {
   "cell_type": "markdown",
   "id": "70196807",
   "metadata": {},
   "source": [
    "We could also write the statement above in two steps:"
   ]
  },
  {
   "cell_type": "code",
   "execution_count": null,
   "id": "020a8f82",
   "metadata": {},
   "outputs": [],
   "source": [
    "my_list = [0, 10, 99, 4]\n",
    "np.array(my_list)"
   ]
  },
  {
   "cell_type": "markdown",
   "id": "621d655b",
   "metadata": {},
   "source": [
    "In the first statement — `my_list = [0, 10, 99, 4]` — we construct a\n",
    "*list* — a container for the four values. Let’s look at the `my_list`\n",
    "value:"
   ]
  },
  {
   "cell_type": "code",
   "execution_count": null,
   "id": "f1d1ee06",
   "metadata": {},
   "outputs": [],
   "source": [
    "my_list"
   ]
  },
  {
   "cell_type": "markdown",
   "id": "93996f45",
   "metadata": {},
   "source": [
    "Notice that we do not see `array` in the display — this is not an array\n",
    "but a list:"
   ]
  },
  {
   "cell_type": "code",
   "execution_count": null,
   "id": "5d52162e",
   "metadata": {},
   "outputs": [],
   "source": [
    "type(my_list)"
   ]
  },
  {
   "cell_type": "markdown",
   "id": "6c888d6f",
   "metadata": {},
   "source": [
    "A list is a basic Python type. We can construct it by using the square\n",
    "brackets notation that you see above; we start with `[`, then we put the\n",
    "values we want to go in the list, separated by commas, followed by `]`.\n",
    "Here is another list:"
   ]
  },
  {
   "cell_type": "code",
   "execution_count": null,
   "id": "b30bcd4d",
   "metadata": {},
   "outputs": [],
   "source": [
    "# Creating another list.\n",
    "list_2 = [5, 10, 20]"
   ]
  },
  {
   "cell_type": "markdown",
   "id": "ed4add53",
   "metadata": {},
   "source": [
    "As you saw, we have been building arrays by building lists, and then\n",
    "passing the list to the `np.array` function, to create an array."
   ]
  },
  {
   "cell_type": "code",
   "execution_count": null,
   "id": "d13a620e",
   "metadata": {},
   "outputs": [],
   "source": [
    "list_again = [100, 10, 0]\n",
    "np.array(list_again)"
   ]
  },
  {
   "cell_type": "markdown",
   "id": "f5a2a65b",
   "metadata": {},
   "source": [
    "Of course, we can do this one line, as we have been doing up till now,\n",
    "by constructing the list inside the parentheses of the function. So, the\n",
    "following cell has just the same output as the cell above:"
   ]
  },
  {
   "cell_type": "code",
   "execution_count": null,
   "id": "35919ea2",
   "metadata": {},
   "outputs": [],
   "source": [
    "# Constructing the list inside the function brackets.\n",
    "np.array([100, 10, 0])"
   ]
  },
  {
   "cell_type": "markdown",
   "id": "5f25eb4c",
   "metadata": {},
   "source": [
    "Lists are like arrays in that they are values that contain values, but\n",
    "they are unlike arrays in various ways — that we will not go into now.\n",
    "We often use lists to construct sequences into lists to turn them into\n",
    "arrays. For our purposes, and particularly for our calculations, arrays\n",
    "are much more useful and efficient than lists.\n"
   ]
  },
  {
   "cell_type": "markdown",
   "id": "90c09a99",
   "metadata": {},
   "source": [
    "## 6.4 String values\n",
    "\n",
    "So far, all the values you have seen in Python arrays have been numbers.\n",
    "Now we get on to values that are bits of text. These are called\n",
    "*strings*.\n",
    "\n",
    "Here is a single Python string value:"
   ]
  },
  {
   "cell_type": "code",
   "execution_count": null,
   "id": "6b5299e8",
   "metadata": {},
   "outputs": [],
   "source": [
    "s = \"Resampling\"\n",
    "s"
   ]
  },
  {
   "cell_type": "markdown",
   "id": "34ec70fb",
   "metadata": {},
   "source": [
    "What is the `type` of the new bit-of-text value `s`?"
   ]
  },
  {
   "cell_type": "code",
   "execution_count": null,
   "id": "e0bd3eed",
   "metadata": {},
   "outputs": [],
   "source": [
    "type(s)"
   ]
  },
  {
   "cell_type": "markdown",
   "id": "957dfd6c",
   "metadata": {},
   "source": [
    "The Python `str` value is a bit of text, and therefore consists of a\n",
    "sequence of characters.\n",
    "\n",
    "As arrays are containers for other things, such as numbers, strings are\n",
    "containers for characters.\n",
    "\n",
    "As we can find the number of elements in an array\n",
    "(<a href=\"#sec-array-length\" class=\"quarto-xref\"><span\n",
    "class=\"quarto-unresolved-ref\">sec-array-length</span></a>), we can find\n",
    "the number of characters in a string with the `len` function:"
   ]
  },
  {
   "cell_type": "code",
   "execution_count": null,
   "id": "da23a595",
   "metadata": {},
   "outputs": [],
   "source": [
    "# Number of characters in s\n",
    "len(s)"
   ]
  },
  {
   "cell_type": "markdown",
   "id": "deca9c0a",
   "metadata": {},
   "source": [
    "As we can *index* into array values to get individual elements\n",
    "(<a href=\"#sec-array-indexing\" class=\"quarto-xref\"><span\n",
    "class=\"quarto-unresolved-ref\">sec-array-indexing</span></a>), we can\n",
    "index into string values to get individual characters:"
   ]
  },
  {
   "cell_type": "code",
   "execution_count": null,
   "id": "aac45a47",
   "metadata": {},
   "outputs": [],
   "source": [
    "# Get the second character of the string\n",
    "# Remember, Python's index positions start at 0.\n",
    "second_char = s[1]\n",
    "second_char"
   ]
  },
  {
   "cell_type": "markdown",
   "id": "8d1da2bb",
   "metadata": {},
   "source": [
    "## 6.5 Strings in arrays\n",
    "\n",
    "As we can store numbers as elements in arrays, we can also store strings\n",
    "as array elements."
   ]
  },
  {
   "cell_type": "code",
   "execution_count": null,
   "id": "adfb977d",
   "metadata": {},
   "outputs": [],
   "source": [
    "# Just for clarity, make the list first.\n",
    "# Lists can also contain strings.\n",
    "list_of_strings = ['Julian', 'Lincoln', 'Simon']\n",
    "# Then pass the list to np.array to make the array.\n",
    "arr_of_strings = np.array(list_of_strings)\n",
    "arr_of_strings"
   ]
  },
  {
   "cell_type": "code",
   "execution_count": null,
   "id": "b97ec374",
   "metadata": {},
   "outputs": [],
   "source": [
    "# We can also create the list and the array in one line,\n",
    "# as we have been doing up til now.\n",
    "arr_of_strings = np.array(['Julian', 'Lincoln', 'Simon'])\n",
    "arr_of_strings"
   ]
  },
  {
   "cell_type": "markdown",
   "id": "7ba1078c",
   "metadata": {},
   "source": [
    "Notice the array `dtype`:"
   ]
  },
  {
   "cell_type": "code",
   "execution_count": null,
   "id": "7bc80f94",
   "metadata": {},
   "outputs": [],
   "source": [
    "arr_of_strings.dtype"
   ]
  },
  {
   "cell_type": "markdown",
   "id": "aa736281",
   "metadata": {},
   "source": [
    "The `U` in the `dtype` tells you that the elements in the array are\n",
    "[Unicode](https://en.wikipedia.org/wiki/Unicode) strings (Unicode is a\n",
    "computer representation of text characters). The number after the `U`\n",
    "gives the maximum number of characters for any string in the array, here\n",
    "set to the length of the longest string when we created the array.\n",
    "\n",
    "<div class=\"callout callout-style-default callout-warning callout-titled\">\n",
    "\n",
    "<div class=\"callout-header d-flex align-content-center\">\n",
    "\n",
    "<div class=\"callout-icon-container\">\n",
    "\n",
    "<i class='callout-icon'></i>\n",
    "\n",
    "</div>\n",
    "\n",
    "<div class=\"callout-title-container flex-fill\">\n",
    "\n",
    "Take care with Numpy string arrays\n",
    "\n",
    "</div>\n",
    "\n",
    "</div>\n",
    "\n",
    "<div class=\"callout-body-container callout-body\">\n",
    "\n",
    "It is easy to run into trouble with Numpy string arrays where the\n",
    "elements have a maximum length, as here. Remember, the `dtype` of the\n",
    "array tells you what type of element the array can hold. Here the\n",
    "`dtype` is telling you that the array can hold strings of maximum length\n",
    "7 characters. Now imagine trying to put a longer string into the array —\n",
    "what do you think would happen?\n",
    "\n",
    "This happens:"
   ]
  },
  {
   "cell_type": "code",
   "execution_count": null,
   "id": "f2df8cdb",
   "metadata": {},
   "outputs": [],
   "source": [
    "# An array of small strings.\n",
    "small_strings = np.array(['six', 'one', 'two'])\n",
    "small_strings.dtype"
   ]
  },
  {
   "cell_type": "code",
   "execution_count": null,
   "id": "6dda0fea",
   "metadata": {},
   "outputs": [],
   "source": [
    "# Set a new value for the first element (first string).\n",
    "small_strings[0] = 'seven'\n",
    "small_strings"
   ]
  },
  {
   "cell_type": "markdown",
   "id": "fb918a3f",
   "metadata": {},
   "source": [
    "Numpy truncates the new string to match the original maximum length.\n",
    "\n",
    "For that reason, it is often useful to instruct Numpy that you want to\n",
    "use effectively infinite length strings, by specifying the array `dtype`\n",
    "as `object` *when you make the array*, like this:"
   ]
  },
  {
   "cell_type": "code",
   "execution_count": null,
   "id": "7b6e5005",
   "metadata": {},
   "outputs": [],
   "source": [
    "# An array of small strings, but this time, tell Numpy\n",
    "# that the strings should be of effectively infinite length.\n",
    "small_strings_better = np.array(['six', 'one', 'two'], dtype=object)\n",
    "small_strings_better"
   ]
  },
  {
   "cell_type": "markdown",
   "id": "86c21676",
   "metadata": {},
   "source": [
    "Notice that the code uses a *named function argument*\n",
    "(<a href=\"#sec-named-arguments\" class=\"quarto-xref\"><span\n",
    "class=\"quarto-unresolved-ref\">sec-named-arguments</span></a>), to\n",
    "specify to `np.array` that the array elements should be of type\n",
    "`object`. This type can store any Python value, and so, when the array\n",
    "is storing strings, it will use Python’s own string values as elements,\n",
    "rather than the more efficient but more fragile Unicode strings that\n",
    "Numpy uses by default."
   ]
  },
  {
   "cell_type": "code",
   "execution_count": null,
   "id": "e34a5922",
   "metadata": {
    "lines_to_next_cell": 0
   },
   "outputs": [],
   "source": [
    "# Set a new value for the first element in the new array.\n",
    "small_strings_better[0] = 'seven'\n",
    "small_strings_better"
   ]
  },
  {
   "cell_type": "markdown",
   "id": "976bbfda",
   "metadata": {},
   "source": []
  },
  {
   "cell_type": "markdown",
   "id": "008a1695",
   "metadata": {},
   "source": [
    "</div>\n",
    "\n",
    "</div>\n"
   ]
  },
  {
   "cell_type": "markdown",
   "id": "5df1ff86",
   "metadata": {},
   "source": [
    "As for any array, you can select elements with *indexing*. When you\n",
    "select an element with a given position (index), you get the *string* at\n",
    "at that position:"
   ]
  },
  {
   "cell_type": "code",
   "execution_count": null,
   "id": "23eeb923",
   "metadata": {},
   "outputs": [],
   "source": [
    "# Julian Lincoln Simon's second name.\n",
    "# (Remember, Python's positions start at 0).\n",
    "middle_name = arr_of_strings[1]\n",
    "middle_name"
   ]
  },
  {
   "cell_type": "markdown",
   "id": "eb4a7ecc",
   "metadata": {},
   "source": [
    "As for numbers, we can compare strings with, for example, the `==`\n",
    "operator, that asks whether the two strings are equal:"
   ]
  },
  {
   "cell_type": "code",
   "execution_count": null,
   "id": "87a5837c",
   "metadata": {},
   "outputs": [],
   "source": [
    "middle_name == 'Lincoln'"
   ]
  },
  {
   "cell_type": "markdown",
   "id": "058cd2af",
   "metadata": {},
   "source": [
    "## 6.6 Repeating elements\n",
    "\n",
    "Now let us go back to the problem of selecting black and white jurors.\n",
    "\n",
    "We started with the strategy of using numbers 0 through 25 to mean\n",
    "“black” jurors, and 26 through 99 to mean “white” jurors. We selected\n",
    "values at random from 0 through 99, and then worked out whether the\n",
    "number meant a “black” juror (was less than 26) or a “white” juror (was\n",
    "greater than 25).\n",
    "\n",
    "It would be good to use strings instead of numbers to identify the\n",
    "potential jurors. Then we would not have to remember our coding of 0\n",
    "through 25 and 26 through 99.\n",
    "\n",
    "If only there was a way to make an array of 100 strings, where 26 of the\n",
    "strings were “black” and 74 were “white”. Then we could select randomly\n",
    "from that array, and it would be immediately obvious that we had a\n",
    "“black” or “white” juror.\n",
    "\n",
    "Luckily, of course, we can do that, by using the `np.repeat` function to\n",
    "construct the array.\n",
    "\n",
    "Here is how that works:"
   ]
  },
  {
   "cell_type": "code",
   "execution_count": null,
   "id": "251003e4",
   "metadata": {},
   "outputs": [],
   "source": [
    "# The values that we will repeat to fill up the larger array.\n",
    "# Use a list to store the sequence of values.\n",
    "juror_types = ['black', 'white']\n",
    "# The number of times we want to repeat \"black\" and \"white\".\n",
    "# Use a list to store the sequence of values.\n",
    "repeat_nos = [26, 74]\n",
    "# Repeat \"black\" 26 times and \"white\" 74 times.\n",
    "# We have passed two lists here, but we could also have passed\n",
    "# arrays - the Numpy repeat function converts the lists to arrays\n",
    "# before it builds the repeats.\n",
    "jury_pool = np.repeat(juror_types, repeat_nos)\n",
    "# Show the result\n",
    "jury_pool"
   ]
  },
  {
   "cell_type": "markdown",
   "id": "b20a6325",
   "metadata": {},
   "source": [
    "We can use this array of repeats of strings, to sample from. The result\n",
    "is easier to grasp, because we are using the string labels, instead of\n",
    "numbers:"
   ]
  },
  {
   "cell_type": "code",
   "execution_count": null,
   "id": "800840dd",
   "metadata": {},
   "outputs": [],
   "source": [
    "# Select one juror at random from the black / white pool.\n",
    "one_juror = rnd.choice(jury_pool)\n",
    "one_juror"
   ]
  },
  {
   "cell_type": "markdown",
   "id": "73ec21bb",
   "metadata": {},
   "source": [
    "We can select our full jury of 12 jurors, and see the results in a more\n",
    "obvious form:"
   ]
  },
  {
   "cell_type": "code",
   "execution_count": null,
   "id": "42d50360",
   "metadata": {},
   "outputs": [],
   "source": [
    "# Select 12 jurors at random from the black / white pool.\n",
    "one_jury = rnd.choice(jury_pool, 12)\n",
    "one_jury"
   ]
  },
  {
   "cell_type": "markdown",
   "id": "8b39f1d4",
   "metadata": {},
   "source": [
    "<div class=\"callout callout-style-default callout-note callout-titled\">\n",
    "\n",
    "<div class=\"callout-header d-flex align-content-center\">\n",
    "\n",
    "<div class=\"callout-icon-container\">\n",
    "\n",
    "<i class='callout-icon'></i>\n",
    "\n",
    "</div>\n",
    "\n",
    "<div class=\"callout-title-container flex-fill\">\n",
    "\n",
    "Using the `size` argument to `rnd.choice`\n",
    "\n",
    "</div>\n",
    "\n",
    "</div>\n",
    "\n",
    "<div class=\"callout-body-container callout-body\">\n",
    "\n",
    "In the code above, we have specified the *size* of the sample we want\n",
    "(12) with the second argument to `rnd.choice`. As you saw in\n",
    "<a href=\"#sec-named-arguments\" class=\"quarto-xref\"><span\n",
    "class=\"quarto-unresolved-ref\">sec-named-arguments</span></a>, we can\n",
    "also give names to the function arguments, in this case, to make it\n",
    "clearer what we mean by “12” in the code above. In fact, from now on,\n",
    "that is what we will do; we will specify the *size* of our sample by\n",
    "using the *name* for the function argument to `rnd.choice` — `size` —\n",
    "like this:"
   ]
  },
  {
   "cell_type": "code",
   "execution_count": null,
   "id": "aeaf5537",
   "metadata": {},
   "outputs": [],
   "source": [
    "# Select 12 jurors at random from the black / white pool.\n",
    "# Specify the sample size using the \"size\" named argument.\n",
    "one_jury = rnd.choice(jury_pool, size=12)\n",
    "one_jury"
   ]
  },
  {
   "cell_type": "markdown",
   "id": "976b3edb",
   "metadata": {},
   "source": [
    "</div>\n",
    "\n",
    "</div>\n",
    "\n",
    "We can use `==` on the array to get `True` values where the juror was\n",
    "“black” and `False` values otherwise:"
   ]
  },
  {
   "cell_type": "code",
   "execution_count": null,
   "id": "a633a264",
   "metadata": {},
   "outputs": [],
   "source": [
    "are_black = one_jury == 'black'\n",
    "are_black"
   ]
  },
  {
   "cell_type": "markdown",
   "id": "0d14a084",
   "metadata": {},
   "source": [
    "Finally, we can `np.sum` to find the number of black jurors\n",
    "(<a href=\"#sec-count-with-sum\" class=\"quarto-xref\"><span\n",
    "class=\"quarto-unresolved-ref\">sec-count-with-sum</span></a>):"
   ]
  },
  {
   "cell_type": "code",
   "execution_count": null,
   "id": "d05aa4d6",
   "metadata": {},
   "outputs": [],
   "source": [
    "# Number of black jurors in this simulated jury.\n",
    "n_black = np.sum(are_black)\n",
    "n_black"
   ]
  },
  {
   "cell_type": "markdown",
   "id": "8a6b4d79",
   "metadata": {},
   "source": [
    "Putting that all together, this is our new procedure to select one jury\n",
    "and count the number of black jurors:"
   ]
  },
  {
   "cell_type": "code",
   "execution_count": null,
   "id": "a5cddb90",
   "metadata": {},
   "outputs": [],
   "source": [
    "one_jury = rnd.choice(jury_pool, size=12)\n",
    "are_black = one_jury == 'black'\n",
    "n_black = np.sum(are_black)\n",
    "n_black"
   ]
  },
  {
   "cell_type": "markdown",
   "id": "03583daf",
   "metadata": {},
   "source": [
    "Or we can be even more compact by putting several statements together\n",
    "into one line:"
   ]
  },
  {
   "cell_type": "code",
   "execution_count": null,
   "id": "493d8c0f",
   "metadata": {},
   "outputs": [],
   "source": [
    "# The same as above, but on one line.\n",
    "n_black = np.sum(rnd.choice(jury_pool, size=12) == 'black')\n",
    "n_black"
   ]
  },
  {
   "cell_type": "markdown",
   "id": "58d321cd",
   "metadata": {},
   "source": [
    "## 6.7 Resampling with and without replacement\n",
    "\n",
    "Now let us return to the details of Robert Swain’s case, that you first\n",
    "saw in <a href=\"#sec-resampling-two\" class=\"quarto-xref\"><span\n",
    "class=\"quarto-unresolved-ref\">sec-resampling-two</span></a>.\n",
    "\n",
    "We looked at the composition of Robert Swain’s 12-person jury — but in\n",
    "fact, by law, that does not have to be representative of the eligible\n",
    "jurors. The 12-person jury is drawn from a jury *panel*, of 100 people,\n",
    "and this should, in turn, be drawn from the population of all eligible\n",
    "jurors in the county, consisting, at the time, of “all male citizens in\n",
    "the community over 21 who are reputed to be honest, intelligent men and\n",
    "are esteemed for their integrity, good character and sound judgment.”\n",
    "So, unless there was some bias against black jurors, we might expect the\n",
    "100-person jury panel to be a plausibly random sample of the eligible\n",
    "jurors, of whom 26% were black. See [the Supreme Court case\n",
    "judgement](https://supreme.justia.com/cases/federal/us/380/202) for\n",
    "details.\n",
    "\n",
    "In fact, in Robert Swain’s trial, there were 8 black members in the\n",
    "100-person jury panel. We will leave it to you to adapt the simulation\n",
    "from <a href=\"#sec-resampling-two\" class=\"quarto-xref\"><span\n",
    "class=\"quarto-unresolved-ref\">sec-resampling-two</span></a> to ask the\n",
    "question — is 8% surprising as a random sample from a population with\n",
    "26% black people?\n",
    "\n",
    "But we have a different question: given that 8 out of 100 of the jury\n",
    "panel were black, is it surprising that none of the 12-person jury were\n",
    "black? As usual, we can answer that question with simulation.\n",
    "\n",
    "Let’s think about what a single simulated jury selection would look\n",
    "like.\n",
    "\n",
    "First we compile a representation of the actual jury panel, using the\n",
    "tools we have used above."
   ]
  },
  {
   "cell_type": "code",
   "execution_count": null,
   "id": "e1213292",
   "metadata": {},
   "outputs": [],
   "source": [
    "juror_types = ['black', 'white']\n",
    "# in fact there were 8 black jurors and 92 white jurors.\n",
    "panel_nos = [8, 92]\n",
    "jury_panel = np.repeat(juror_types, panel_nos)\n",
    "# Show the result\n",
    "jury_panel"
   ]
  },
  {
   "cell_type": "markdown",
   "id": "dcf12eb3",
   "metadata": {},
   "source": [
    "Now consider taking a 12-person jury at random from this panel. We\n",
    "select the first juror at random, so that juror has an 8 out of 100\n",
    "chance of being black. But when we select the second jury member, the\n",
    "situation has changed slightly. We can’t select the first juror again,\n",
    "so our panel is now 99 people. If our first juror was black, then the\n",
    "chances of selecting another black juror next are not 8 out of 100, but\n",
    "7 out of 99 — a smaller chance. The problem is, as we shall see in more\n",
    "detail later, the chances of getting a black juror as the second, and\n",
    "third and fourth members of the jury depend on whether we selected a\n",
    "black juror as the first and second and third jury members. At its most\n",
    "extreme, imagine we had already selected eight jurors, and by some\n",
    "strange chance, all eight were black. Now our chances of selecting a\n",
    "black juror as the ninth juror are zero — there are no black jurors left\n",
    "to select from the panel.\n",
    "\n",
    "In this case we are selecting jurors from the panel *without\n",
    "replacement*, meaning, that once we have selected a particular juror, we\n",
    "cannot select them again, and we do not put them back into the panel\n",
    "when we select our next juror.\n",
    "\n",
    "This is the probability equivalent of the situation when you are dealing\n",
    "a hand of cards. Let’s say someone is dealing you, and you only, a hand\n",
    "of five cards. You get an ace as your first card. Your chances of\n",
    "getting an ace as your first card were just the number of aces in the\n",
    "deck divided by the number of cards — four in 52 – $\\frac{4}{52}$. But\n",
    "for your second card, the probability has changed, because there is one\n",
    "less ace remaining in the pack, and one less card, so your chances of\n",
    "getting an ace as your second card are now $\\frac{3}{51}$. This is\n",
    "sampling without replacement — in a normal game, you can’t get the same\n",
    "card twice. Of course, you could imagine getting a hand where you\n",
    "sampled *with replacement*. In that case, you’d get a card, you’d write\n",
    "down what it was, and you’d give the card back to the dealer, who would\n",
    "*replace* the card in the deck, shuffle again, and give you another\n",
    "card.\n",
    "\n",
    "As you can see, the chances change if you are sampling with or without\n",
    "replacement, and the kind of sampling you do, will dictate how you model\n",
    "your chances in your simulations.\n",
    "\n",
    "Because this distinction is so common, and so important, the machinery\n",
    "you have already seen in `rnd.choice` has simple ways for you to select\n",
    "your sampling type. You have already seen sampling *with replacement*,\n",
    "and it looks like this:"
   ]
  },
  {
   "cell_type": "code",
   "execution_count": null,
   "id": "5d4400fc",
   "metadata": {},
   "outputs": [],
   "source": [
    "# Take a sample of 12 jurors from the panel *with replacement*\n",
    "# With replacement is the default for `rnd.choice`.\n",
    "strange_jury = rnd.choice(jury_panel, size=12)\n",
    "strange_jury"
   ]
  },
  {
   "cell_type": "markdown",
   "id": "959ac193",
   "metadata": {},
   "source": [
    "This is a strange jury, because it can select any member of the jury\n",
    "pool more than once. Perhaps that juror would have to fill two (or\n",
    "more!) seats, or run quickly between them. But of course, that is not\n",
    "how juries are selected. They are selected *without replacement*:"
   ]
  },
  {
   "cell_type": "code",
   "execution_count": null,
   "id": "bd1ee106",
   "metadata": {},
   "outputs": [],
   "source": [
    "# Take a sample of 12 jurors from the panel *without replacement*\n",
    "ok_jury = rnd.choice(jury_panel, 12, replace=False)\n",
    "ok_jury"
   ]
  },
  {
   "cell_type": "markdown",
   "id": "544e8699",
   "metadata": {},
   "source": [
    "<div class=\"callout callout-style-default callout-note callout-titled\">\n",
    "\n",
    "<div class=\"callout-header d-flex align-content-center\">\n",
    "\n",
    "<div class=\"callout-icon-container\">\n",
    "\n",
    "<i class='callout-icon'></i>\n",
    "\n",
    "</div>\n",
    "\n",
    "<div class=\"callout-title-container flex-fill\">\n",
    "\n",
    "Comments at the end of lines\n",
    "\n",
    "</div>\n",
    "\n",
    "</div>\n",
    "\n",
    "<div class=\"callout-body-container callout-body\">\n",
    "\n",
    "You have already seen comment lines. These are lines beginning with `#`,\n",
    "to signal to Python that the rest of the line is text for humans to\n",
    "read, but Python to ignore."
   ]
  },
  {
   "cell_type": "code",
   "execution_count": null,
   "id": "93ac1fb9",
   "metadata": {},
   "outputs": [],
   "source": [
    "# This is a comment.  Python ignores this line."
   ]
  },
  {
   "cell_type": "markdown",
   "id": "922e67ec",
   "metadata": {},
   "source": [
    "You can also put comments at the *end of code lines*, by finishing the\n",
    "code part of the line, and then putting a `#`, followed by more text.\n",
    "Again, Python will ignore everything after the `#` as a text for humans,\n",
    "but not for Python."
   ]
  },
  {
   "cell_type": "code",
   "execution_count": null,
   "id": "497ef0d4",
   "metadata": {},
   "outputs": [],
   "source": [
    "print('Hello')  # This is a comment at the end of the line."
   ]
  },
  {
   "cell_type": "markdown",
   "id": "72ab748d",
   "metadata": {},
   "source": [
    "</div>\n",
    "\n",
    "</div>\n",
    "\n",
    "To finish the procedure for simulating a single jury selection, we count\n",
    "the number of black jurors:"
   ]
  },
  {
   "cell_type": "code",
   "execution_count": null,
   "id": "756dee97",
   "metadata": {},
   "outputs": [],
   "source": [
    "n_black = np.sum(ok_jury == 'black')  # How many black jurors?\n",
    "n_black"
   ]
  },
  {
   "cell_type": "markdown",
   "id": "7f6d7876",
   "metadata": {},
   "source": [
    "Now we have the procedure for one simulated trial, here is the procedure\n",
    "for 10000 simulated trials."
   ]
  },
  {
   "cell_type": "code",
   "execution_count": null,
   "id": "4e081577",
   "metadata": {},
   "outputs": [],
   "source": [
    "counts = np.zeros(10000)\n",
    "for i in np.arange(10000):\n",
    "    # Single trial procedure\n",
    "    jury = rnd.choice(jury_panel, size=12, replace=False)\n",
    "    n_black = np.sum(jury == 'black')  # How many black jurors?\n",
    "    # Store the result\n",
    "    counts[i] = n_black\n",
    "\n",
    "# Number of juries with 0 black jurors.\n",
    "zero_black = np.sum(counts == 0)\n",
    "# Proportion\n",
    "p_zero_black = zero_black / 10000\n",
    "print(p_zero_black)"
   ]
  },
  {
   "cell_type": "markdown",
   "id": "39c72574",
   "metadata": {},
   "source": [
    "We have found that, when there are only 8% black jurors in the jury\n",
    "panel, having no black jurors in the final jury happens about 34% of the\n",
    "time, even in this case, where the jury is selected completely at random\n",
    "from the jury panel.\n",
    "\n",
    "We should look for the main source of bias in the initial selection of\n",
    "the jury panel, not in the selection of the jury from the panel.\n"
   ]
  }
 ],
 "metadata": {
  "jupytext": {
   "cell_metadata_filter": "-all",
   "main_language": "python",
   "notebook_metadata_filter": "-all"
  }
 },
 "nbformat": 4,
 "nbformat_minor": 5
}