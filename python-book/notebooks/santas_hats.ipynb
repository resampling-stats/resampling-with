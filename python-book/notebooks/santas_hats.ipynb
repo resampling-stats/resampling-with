{
 "cells": [
  {
   "cell_type": "markdown",
   "id": "ba38f15b",
   "metadata": {},
   "source": [
    "# Santas' hats"
   ]
  },
  {
   "cell_type": "markdown",
   "id": "c44d93b3",
   "metadata": {},
   "source": [
    "**The welcome staff at a restaurant mix up the hats of a party of six\n",
    "Christmas Santas. What is the probability that at least one will get\n",
    "their own hat?**.\n",
    "\n",
    "After a long Christmas day, six Santas meet in the pub to let off steam.\n",
    "However, as luck would have it, their hosts have mixed up their hats.\n",
    "When the hats are returned, what is the chance that at least one Santa\n",
    "will get his own hat back?\n",
    "\n",
    "First, assign each of the six Santas a number, and place these numbers\n",
    "in an array. Next, shuffle the array (this represents the mixed-up hats)\n",
    "and compare to the original. The rest of the problem is the same as the\n",
    "pairs one from before, except that we are now interested in any trial\n",
    "where at least one ($\\ge 1$) Santa received the right hat."
   ]
  },
  {
   "cell_type": "code",
   "execution_count": null,
   "id": "250b2ce4",
   "metadata": {},
   "outputs": [],
   "source": [
    "import numpy as np\n",
    "\n",
    "rnd = np.random.default_rng()"
   ]
  },
  {
   "cell_type": "code",
   "execution_count": null,
   "id": "ca183ab0",
   "metadata": {},
   "outputs": [],
   "source": [
    "N = 10000\n",
    "trial_results = np.zeros(N, dtype=bool)\n",
    "\n",
    "# Assign numbers to each owner\n",
    "owners = np.arange(6)\n",
    "\n",
    "# Each hat gets the number of their owner\n",
    "hats = np.arange(6)\n",
    "\n",
    "for i in range(N):\n",
    "    # Randomly shuffle the hats and compare to their owners\n",
    "    shuffled_hats = rnd.permuted(hats)\n",
    "\n",
    "    # In how many cases did at least one person get their hat back?\n",
    "    trial_results[i] = np.sum(shuffled_hats == owners) >= 1\n",
    "\n",
    "# How many times, over all trials, did at least one person get their hat back?\n",
    "k = np.sum(trial_results)\n",
    "\n",
    "# Convert to a proportion.\n",
    "kk = k / N\n",
    "\n",
    "# Print the result.\n",
    "print(kk)"
   ]
  },
  {
   "cell_type": "markdown",
   "id": "ce4cfa1e",
   "metadata": {},
   "source": [
    "We see that in roughly 64 percent of the trials at least one Santa\n",
    "received their own hat back."
   ]
  }
 ],
 "metadata": {
  "jupytext": {
   "cell_metadata_filter": "-all",
   "main_language": "python",
   "notebook_metadata_filter": "-all"
  }
 },
 "nbformat": 4,
 "nbformat_minor": 5
}