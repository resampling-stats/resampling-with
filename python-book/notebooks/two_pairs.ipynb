{
 "cells": [
  {
   "cell_type": "markdown",
   "id": "3cdfb4f5",
   "metadata": {},
   "source": [
    "# Two pairs"
   ]
  },
  {
   "cell_type": "markdown",
   "id": "df2777e3",
   "metadata": {},
   "source": [
    "We count the number of times we get two pairs in a random hand of five\n",
    "cards."
   ]
  },
  {
   "cell_type": "code",
   "execution_count": null,
   "id": "22051289",
   "metadata": {},
   "outputs": [],
   "source": [
    "import numpy as np\n",
    "rnd = np.random.default_rng()\n",
    "\n",
    "one_suit = np.arange(1, 14)\n",
    "deck = np.repeat(one_suit, 4)"
   ]
  },
  {
   "cell_type": "code",
   "execution_count": null,
   "id": "a28f652a",
   "metadata": {},
   "outputs": [],
   "source": [
    "pairs_per_trial = np.zeros(10000)\n",
    "\n",
    "# Repeat the following steps 10000 times\n",
    "for i in range(10000):\n",
    "    # Shuffle the deck\n",
    "    shuffled = rnd.permuted(deck)\n",
    "\n",
    "    # Take the first five cards.\n",
    "    hand = shuffled[:5]\n",
    "\n",
    "    # How many pairs?\n",
    "    # Counts for each card rank.\n",
    "    repeat_nos = np.bincount(hand)\n",
    "    n_pairs = np.sum(repeat_nos == 2)\n",
    "\n",
    "    # Keep score of # of pairs\n",
    "    pairs_per_trial[i] = n_pairs\n",
    "\n",
    "    # End loop, go back and repeat\n",
    "\n",
    "# How often were there 2 pairs?\n",
    "n_two_pairs = np.sum(pairs_per_trial == 2)\n",
    "\n",
    "# Convert to proportion\n",
    "print(n_two_pairs / 10000)"
   ]
  }
 ],
 "metadata": {
  "jupytext": {
   "cell_metadata_filter": "-all",
   "main_language": "python",
   "notebook_metadata_filter": "-all"
  }
 },
 "nbformat": 4,
 "nbformat_minor": 5
}