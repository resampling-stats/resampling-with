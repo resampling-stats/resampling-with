{
 "cells": [
  {
   "cell_type": "markdown",
   "id": "c352aa8e",
   "metadata": {},
   "source": [
    "# Female calf numbers simulation"
   ]
  },
  {
   "cell_type": "markdown",
   "id": "546638ed",
   "metadata": {},
   "source": [
    "This notebook uses simulation to test the null hypothesis that the\n",
    "chances of any one calf being female is 100 / 206."
   ]
  },
  {
   "cell_type": "code",
   "execution_count": null,
   "id": "91803c4b",
   "metadata": {},
   "outputs": [],
   "source": [
    "# Set the number of trials.\n",
    "n_trials = 10000\n",
    "\n",
    "# Set the size of each sample.\n",
    "sample_size = 10\n",
    "\n",
    "# Probability of any one calf being female.\n",
    "p_female = 100 / 206\n",
    "\n",
    "# An array to store the results.\n",
    "scores = np.zeros(n_trials)\n",
    "\n",
    "# For 10000 repeats.\n",
    "for i in range(n_trials):\n",
    "\n",
    "    a = rnd.choice(['female', 'male'],\n",
    "                   p=[p_female, 1 - p_female],\n",
    "                   size=sample_size)\n",
    "    b = np.sum(a == 'female')\n",
    "\n",
    "    # Store the result of the current trial.\n",
    "    scores[i] = b\n",
    "\n",
    "# Plot a histogram of the scores.\n",
    "plt.title(f\"Number of females in {n_trials} samples of \\n{sample_size} simulated calves\")\n",
    "plt.hist(scores)\n",
    "plt.xlabel('Number of Females')\n",
    "plt.ylabel('Frequency')\n",
    "\n",
    "# Count the number of scores that were greater than or equal to 9.\n",
    "k = np.sum(scores >= 9)\n",
    "\n",
    "# Express as a proportion.\n",
    "kk = k / n_trials\n",
    "\n",
    "# Show the proportion.\n",
    "print(\"Probability of 9 or 10 females occurring by chance:\", kk)"
   ]
  },
  {
   "cell_type": "markdown",
   "id": "e01b8c3a",
   "metadata": {},
   "source": [
    "We read from the result in variable `kk` that the probability of 9 or 10\n",
    "females occurring by chance is a bit more than one percent."
   ]
  }
 ],
 "metadata": {
  "jupytext": {
   "cell_metadata_filter": "-all",
   "main_language": "python",
   "notebook_metadata_filter": "-all"
  }
 },
 "nbformat": 4,
 "nbformat_minor": 5
}