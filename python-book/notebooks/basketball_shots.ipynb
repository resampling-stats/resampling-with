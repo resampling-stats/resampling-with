{
 "cells": [
  {
   "cell_type": "markdown",
   "id": "5bb7fdc6",
   "metadata": {},
   "source": [
    "# Three or more basketball shots"
   ]
  },
  {
   "cell_type": "markdown",
   "id": "a16b90c6",
   "metadata": {},
   "source": [
    "We simulate the probability of scoring three or more baskets from five\n",
    "shots, if each shot has a 25% probability of success."
   ]
  },
  {
   "cell_type": "code",
   "execution_count": null,
   "id": "e028deff",
   "metadata": {},
   "outputs": [],
   "source": [
    "import numpy as np\n",
    "rnd = np.random.default_rng()"
   ]
  },
  {
   "cell_type": "code",
   "execution_count": null,
   "id": "ac8f9962",
   "metadata": {},
   "outputs": [],
   "source": [
    "n_baskets = np.zeros(10000)\n",
    "\n",
    "# Do 10000 experimental trials.\n",
    "for i in range(10000):\n",
    "\n",
    "    # Generate 5 random numbers, each between 1 and 4, put them in \"a\".\n",
    "    # Let \"1\" represent a basket, \"2\" through \"4\" be a miss.\n",
    "    a = rnd.integers(1, 5, size=5)\n",
    "\n",
    "    # Count the number of baskets, put that result in b.\n",
    "    b = np.sum(a == 1)\n",
    "\n",
    "    # Keep track of each experiment's results in z.\n",
    "    n_baskets[i] = b\n",
    "\n",
    "    # End the experiment, go back and repeat until all 10000 are completed, then\n",
    "    # proceed.\n",
    "\n",
    "# Determine how many experiments produced more than two baskets, put that\n",
    "# result in k.\n",
    "n_more_than_2 = np.sum(n_baskets > 2)\n",
    "\n",
    "# Convert to a proportion.\n",
    "prop_more_than_2 = n_more_than_2 / 10000\n",
    "\n",
    "# Print the result.\n",
    "print(prop_more_than_2)"
   ]
  }
 ],
 "metadata": {
  "jupytext": {
   "cell_metadata_filter": "-all",
   "main_language": "python",
   "notebook_metadata_filter": "-all"
  }
 },
 "nbformat": 4,
 "nbformat_minor": 5
}