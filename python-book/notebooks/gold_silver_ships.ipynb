{
 "cells": [
  {
   "cell_type": "markdown",
   "id": "af9951d0",
   "metadata": {},
   "source": [
    "# Ships with gold and silver"
   ]
  },
  {
   "cell_type": "markdown",
   "id": "ad3b82b1",
   "metadata": {},
   "source": [
    "In which we solve the problem of gold and silver chests in a discovered\n",
    "ship."
   ]
  },
  {
   "cell_type": "code",
   "execution_count": null,
   "id": "46ea127b",
   "metadata": {},
   "outputs": [],
   "source": [
    "import numpy as np\n",
    "rnd = np.random.default_rng()"
   ]
  },
  {
   "cell_type": "code",
   "execution_count": null,
   "id": "d3c26a9b",
   "metadata": {},
   "outputs": [],
   "source": [
    "# The 3 buckets.  Each bucket represents a ship.  Each has two chests.\n",
    "bucket1 = ['Gold', 'Gold']  # Chests in first ship.\n",
    "bucket2 = ['Gold',  'Silver']  # Chests in second ship.\n",
    "bucket3 = ['Silver', 'Silver']  # Chests in third ship."
   ]
  },
  {
   "cell_type": "code",
   "execution_count": null,
   "id": "3375b559",
   "metadata": {},
   "outputs": [],
   "source": [
    "# For each trial, we will have one of three states:\n",
    "#\n",
    "# 1. When opening the first chest, it did not contain gold.\n",
    "#    We will reject these trials, since they do not match our\n",
    "#    experiment description.\n",
    "# 2. Gold was found in the first and the second chest.\n",
    "# 3. Gold was found in the first, but silver in the second chest.\n",
    "#\n",
    "# We need a placeholder value for all trials, and will make that\n",
    "# \"No gold in chest 1, chest 2 never opened\".\n",
    "second_chests = np.repeat(['No gold in chest 1, chest 2 never opened'], 10000)\n",
    "\n",
    "for i in range(10000):\n",
    "    # Select a ship at random from the three ships.\n",
    "    ship_no = rnd.choice([1, 2, 3])\n",
    "    # Get the chests from this ship (represented by a bucket).\n",
    "    if ship_no == 1:\n",
    "        bucket = bucket1\n",
    "    if ship_no == 2:\n",
    "        bucket = bucket2\n",
    "    if ship_no == 3:\n",
    "        bucket = bucket3\n",
    "\n",
    "    # We shuffle the order of the chests in this ship, to simulate\n",
    "    # the fact that we don't know which of the two chests we have\n",
    "    # found first, forward or aft.\n",
    "    shuffled = rnd.permuted(bucket)\n",
    "\n",
    "    if shuffled[0] == 'Gold':  # We found a gold chest first.\n",
    "        # Store whether the Second chest was silver or gold.\n",
    "        second_chests[i] = shuffled[1]\n",
    "\n",
    "    # End loop, go back to beginning.\n",
    "\n",
    "# Number of times we found gold in the second chest.\n",
    "n_golds = np.sum(second_chests == 'Gold')\n",
    "# Number of times we found silver in the second chest.\n",
    "n_silvers = np.sum(second_chests == 'Silver')\n",
    "# As a ratio of golds to all second chests (where the first was gold).\n",
    "print(n_golds / (n_golds + n_silvers))"
   ]
  }
 ],
 "metadata": {
  "jupytext": {
   "cell_metadata_filter": "-all",
   "main_language": "python",
   "notebook_metadata_filter": "-all"
  }
 },
 "nbformat": 4,
 "nbformat_minor": 5
}