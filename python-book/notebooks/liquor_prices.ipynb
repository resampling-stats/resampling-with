{
 "cells": [
  {
   "cell_type": "markdown",
   "id": "1428737b",
   "metadata": {},
   "source": [
    "# Public and private liquor prices"
   ]
  },
  {
   "cell_type": "markdown",
   "id": "a5da1e74",
   "metadata": {},
   "source": [
    "This notebook asks the question whether the difference in the means of\n",
    "private and government-specified prices of a particular whiskey could\n",
    "plausibly have come about as a result of random sampling."
   ]
  },
  {
   "cell_type": "code",
   "execution_count": null,
   "id": "a9445a62",
   "metadata": {},
   "outputs": [],
   "source": [
    "import numpy as np\n",
    "rnd = np.random.default_rng()\n",
    "\n",
    "# Import the plotting library\n",
    "import matplotlib.pyplot as plt"
   ]
  },
  {
   "cell_type": "code",
   "execution_count": null,
   "id": "df8dd72b",
   "metadata": {},
   "outputs": [],
   "source": [
    "fake_diffs = np.zeros(10000)\n",
    "\n",
    "priv = np.array([\n",
    "    4.82, 5.29, 4.89, 4.95, 4.55, 4.90, 5.25, 5.30, 4.29, 4.85, 4.54, 4.75,\n",
    "    4.85, 4.85, 4.50, 4.75, 4.79, 4.85, 4.79, 4.95, 4.95, 4.75, 5.20, 5.10,\n",
    "    4.80, 4.29])\n",
    "\n",
    "govt = np.array([\n",
    "    4.65, 4.55, 4.11, 4.15, 4.20, 4.55, 3.80, 4.00, 4.19, 4.75, 4.74, 4.50,\n",
    "    4.10, 4.00, 5.05, 4.20])\n",
    "\n",
    "actual_diff = np.mean(priv) - np.mean(govt)\n",
    "\n",
    "# Join the two vectors of data\n",
    "both = np.concatenate((priv, govt))\n",
    "\n",
    "# Repeat 10000 simulation trials\n",
    "for i in range(10000):\n",
    "\n",
    "    # Sample 26 with replacement for private group\n",
    "    fake_priv = np.random.choice(both, size=26)\n",
    "\n",
    "    # Sample 16 with replacement for govt. group\n",
    "    fake_govt = np.random.choice(both, size=16)\n",
    "\n",
    "    # Find the mean of the \"private\" group.\n",
    "    p = np.mean(fake_priv)\n",
    "\n",
    "    # Mean of the \"govt.\" group\n",
    "    g = np.mean(fake_govt)\n",
    "\n",
    "    # Difference in the means\n",
    "    diff = p - g\n",
    "\n",
    "    # Keep score of the trials\n",
    "    fake_diffs[i] = diff\n",
    "\n",
    "# Graph of simulation results to compare with the observed result.\n",
    "plt.hist(fake_diffs)\n",
    "plt.xlabel('Difference in average prices (cents)')\n",
    "plt.title('Average price difference (Actual difference = '\n",
    "f'{actual_diff * 100:.0f} cents)');"
   ]
  }
 ],
 "metadata": {
  "jupytext": {
   "cell_metadata_filter": "-all",
   "main_language": "python",
   "notebook_metadata_filter": "-all"
  }
 },
 "nbformat": 4,
 "nbformat_minor": 5
}