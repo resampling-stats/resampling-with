{
 "cells": [
  {
   "cell_type": "markdown",
   "id": "00a214d0",
   "metadata": {},
   "source": [
    "# Three Girls"
   ]
  },
  {
   "cell_type": "markdown",
   "id": "3106fb6a",
   "metadata": {},
   "source": [
    "This notebook estimates the probability that a family of four children\n",
    "will have exactly three girls."
   ]
  },
  {
   "cell_type": "code",
   "execution_count": null,
   "id": "1bae2e68",
   "metadata": {},
   "outputs": [],
   "source": [
    "import numpy as np\n",
    "rnd = np.random.default_rng()"
   ]
  },
  {
   "cell_type": "code",
   "execution_count": null,
   "id": "a3f5b1b1",
   "metadata": {},
   "outputs": [],
   "source": [
    "girl_counts = np.zeros(10000)\n",
    "\n",
    "# Do 10000 trials\n",
    "for i in range(10000):\n",
    "\n",
    "    # Select 'girl' or 'boy' at random, four times.\n",
    "    children = rnd.choice(['girl', 'boy'], size=4)\n",
    "\n",
    "    # Count the number of girls and put the result in b.\n",
    "    b = np.sum(children == 'girl')\n",
    "\n",
    "    # Keep track of each trial result in z.\n",
    "    girl_counts[i] = b\n",
    "\n",
    "    # End this trial, repeat the experiment until 10000 trials are complete,\n",
    "    # then proceed.\n",
    "\n",
    "# Count the number of experiments where we got exactly 3 girls, and put this\n",
    "# result in k.\n",
    "n_three_girls = np.sum(girl_counts == 3)\n",
    "\n",
    "# Convert to a proportion.\n",
    "three_girls_prop = n_three_girls / 10000\n",
    "\n",
    "# Print the results.\n",
    "print(three_girls_prop)"
   ]
  }
 ],
 "metadata": {
  "jupytext": {
   "cell_metadata_filter": "-all",
   "main_language": "python",
   "notebook_metadata_filter": "-all"
  }
 },
 "nbformat": 4,
 "nbformat_minor": 5
}