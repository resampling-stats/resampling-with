{
 "cells": [
  {
   "cell_type": "markdown",
   "id": "05341109",
   "metadata": {},
   "source": [
    "# Three of a kind"
   ]
  },
  {
   "cell_type": "markdown",
   "id": "3fb6c7c1",
   "metadata": {},
   "source": [
    "We count the number of times we get three of a kind in a random hand of\n",
    "five cards."
   ]
  },
  {
   "cell_type": "code",
   "execution_count": null,
   "id": "aecf2ff7",
   "metadata": {},
   "outputs": [],
   "source": [
    "import numpy as np\n",
    "rnd = np.random.default_rng()"
   ]
  },
  {
   "cell_type": "code",
   "execution_count": null,
   "id": "ba6ceaa4",
   "metadata": {},
   "outputs": [],
   "source": [
    "# Create a bucket (vector) called a with four \"1's,\" four \"2's,\" four \"3's,\"\n",
    "# etc., to represent a deck of cards\n",
    "one_suit = np.arange(1, 14)\n",
    "# Repeat values for one suit four times to make a 52 card deck of values.\n",
    "deck = np.repeat(one_suit, 4)"
   ]
  },
  {
   "cell_type": "code",
   "execution_count": null,
   "id": "5b9c445d",
   "metadata": {},
   "outputs": [],
   "source": [
    "triples_per_trial = np.zeros(10000)\n",
    "\n",
    "# Repeat the following steps 10000 times\n",
    "for i in range(10000):\n",
    "    # Shuffle the deck\n",
    "    shuffled = rnd.permuted(deck)\n",
    "\n",
    "    # Take the first five cards.\n",
    "    hand = shuffled[:5]\n",
    "\n",
    "    # How many triples?\n",
    "    repeat_nos = np.bincount(hand)\n",
    "    n_triples = np.sum(repeat_nos == 3)\n",
    "\n",
    "    # Keep score of # of triples\n",
    "    triples_per_trial[i] = n_triples\n",
    "\n",
    "    # End loop, go back and repeat\n",
    "\n",
    "# How often was there 1 pair?\n",
    "n_triples = np.sum(triples_per_trial == 1)\n",
    "\n",
    "# Convert to proportion\n",
    "print(n_triples / 10000)"
   ]
  }
 ],
 "metadata": {
  "jupytext": {
   "cell_metadata_filter": "-all",
   "main_language": "python",
   "notebook_metadata_filter": "-all"
  }
 },
 "nbformat": 4,
 "nbformat_minor": 5
}