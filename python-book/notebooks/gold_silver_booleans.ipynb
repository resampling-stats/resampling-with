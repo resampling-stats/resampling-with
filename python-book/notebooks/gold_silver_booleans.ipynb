{
 "cells": [
  {
   "cell_type": "markdown",
   "id": "61296837",
   "metadata": {},
   "source": [
    "# Another approach to ships with gold and silver"
   ]
  },
  {
   "cell_type": "markdown",
   "id": "c4aa7475",
   "metadata": {},
   "source": [
    "This notebook is a variation on the problem with gold and silver chests\n",
    "in ships. It shows how we can count and tally the results at the end,\n",
    "rather than in the trial itself.\n",
    "\n",
    "Notice that the first part of the code is identical to the first\n",
    "approach to this problem. There are two key differences — see the\n",
    "comments for an explanation."
   ]
  },
  {
   "cell_type": "code",
   "execution_count": null,
   "id": "64d5036e",
   "metadata": {},
   "outputs": [],
   "source": [
    "import numpy as np\n",
    "rnd = np.random.default_rng()"
   ]
  },
  {
   "cell_type": "code",
   "execution_count": null,
   "id": "48a872e9",
   "metadata": {},
   "outputs": [],
   "source": [
    "# The 3 buckets, each representing two chests on a ship.\n",
    "# As before.\n",
    "bucket1 = ['Gold', 'Gold']  # Chests in first ship.\n",
    "bucket2 = ['Gold',  'Silver']  # Chests in second ship.\n",
    "bucket3 = ['Silver', 'Silver']  # Chests in third ship."
   ]
  },
  {
   "cell_type": "code",
   "execution_count": null,
   "id": "140bd412",
   "metadata": {},
   "outputs": [],
   "source": [
    "# Here is where the difference starts.  We are now going to fill in\n",
    "# the result for the first chest _and_ the result for the second chest.\n",
    "#\n",
    "# Later we will fill in all these values, so the string we put here\n",
    "# does not matter.\n",
    "\n",
    "# Whether the first chest was Gold or Silver.\n",
    "first_chests = np.repeat(['To be announced'], 10000)\n",
    "# Whether the second chest was Gold or Silver.\n",
    "second_chests = np.repeat(['To be announced'], 10000)\n",
    "\n",
    "for i in range(10000):\n",
    "    # Select a ship at random from the three ships.\n",
    "    # As before.\n",
    "    ship_no = rnd.choice([1, 2, 3])\n",
    "    # Get the chests from this ship.\n",
    "    # As before.\n",
    "    if ship_no == 1:\n",
    "        bucket = bucket1\n",
    "    if ship_no == 2:\n",
    "        bucket = bucket2\n",
    "    if ship_no == 3:\n",
    "        bucket = bucket3\n",
    "\n",
    "    # As before.\n",
    "    shuffled = rnd.permuted(bucket)\n",
    "\n",
    "    # Here is the big difference - we store the result for the first and second\n",
    "    # chests.\n",
    "    first_chests[i] = shuffled[0]\n",
    "    second_chests[i] = shuffled[1]\n",
    "\n",
    "# End loop, go back to beginning.\n",
    "\n",
    "# We will do the calculation we need in the next cell.  For now\n",
    "# just display the first 10 values.\n",
    "ten_first_chests = first_chests[:10]\n",
    "print('The first 10 values of \"first_chests:', ten_first_chests)"
   ]
  },
  {
   "cell_type": "code",
   "execution_count": null,
   "id": "b1c09b8a",
   "metadata": {},
   "outputs": [],
   "source": [
    "ten_second_chests = second_chests[:10]\n",
    "print('The first 10 values of \"second_chests', ten_second_chests)"
   ]
  },
  {
   "cell_type": "markdown",
   "id": "42dfc667",
   "metadata": {},
   "source": [
    "In this variant, we recorded the type of first chest for each trial\n",
    "(“Gold” or “Silver”), and the type of second chest of the second chest\n",
    "(“Gold” or “Silver”).\n",
    "\n",
    "**We would like to count the number of times there was “Gold” in the\n",
    "first chest *and* “Gold” in the second.**\n",
    "\n",
    "## 10.5 Combining Boolean arrays\n",
    "\n",
    "We can do the count we need by *combining* the Boolean arrays with the\n",
    "`&` operator. `&` combines Boolean arrays with a *logical and*. *Logical\n",
    "and* is a rule for combining two Boolean values, where the rule is: the\n",
    "result is `True` if the first value is `True` *and* the second value if\n",
    "`True`.\n",
    "\n",
    "Here we use the `&` *operator* to combine some Boolean values on the\n",
    "left and right of the operator:"
   ]
  },
  {
   "cell_type": "code",
   "execution_count": null,
   "id": "b9b6125f",
   "metadata": {},
   "outputs": [],
   "source": [
    "True & True   # Both are True, so result is True"
   ]
  },
  {
   "cell_type": "code",
   "execution_count": null,
   "id": "39352872",
   "metadata": {},
   "outputs": [],
   "source": [
    "True & False   # At least one of the values is False, so result is False"
   ]
  },
  {
   "cell_type": "code",
   "execution_count": null,
   "id": "1da1fbd3",
   "metadata": {},
   "outputs": [],
   "source": [
    "False & True   # At least one of the values is False, so result is False"
   ]
  },
  {
   "cell_type": "code",
   "execution_count": null,
   "id": "43477114",
   "metadata": {},
   "outputs": [],
   "source": [
    "False & False   # At least one (in fact both) are False, result is False."
   ]
  },
  {
   "cell_type": "markdown",
   "id": "b5b0bfb1",
   "metadata": {},
   "source": [
    "<div class=\"callout callout-style-default callout-note callout-titled\">\n",
    "\n",
    "<div class=\"callout-header d-flex align-content-center\">\n",
    "\n",
    "<div class=\"callout-icon-container\">\n",
    "\n",
    "<i class='callout-icon'></i>\n",
    "\n",
    "</div>\n",
    "\n",
    "<div class=\"callout-title-container flex-fill\">\n",
    "\n",
    "`&` and `and` in Python\n",
    "\n",
    "</div>\n",
    "\n",
    "</div>\n",
    "\n",
    "<div class=\"callout-body-container callout-body\">\n",
    "\n",
    "In fact Python has another operation to apply this *logical and*\n",
    "operation to values — the `and` operator:"
   ]
  },
  {
   "cell_type": "code",
   "execution_count": null,
   "id": "0d101ae5",
   "metadata": {},
   "outputs": [],
   "source": [
    "print(True and True)"
   ]
  },
  {
   "cell_type": "code",
   "execution_count": null,
   "id": "36b9ca2b",
   "metadata": {},
   "outputs": [],
   "source": [
    "print(True and False)"
   ]
  },
  {
   "cell_type": "code",
   "execution_count": null,
   "id": "203403b3",
   "metadata": {},
   "outputs": [],
   "source": [
    "print(False and True)"
   ]
  },
  {
   "cell_type": "code",
   "execution_count": null,
   "id": "f55097ae",
   "metadata": {},
   "outputs": [],
   "source": [
    "print(False and False)"
   ]
  },
  {
   "cell_type": "markdown",
   "id": "1e6be513",
   "metadata": {},
   "source": [
    "You will see this `and` operator often in Python code, but it does not\n",
    "work well when combining Numpy *arrays*, so we will use the similar `&`\n",
    "operator, that does work on arrays.\n",
    "\n",
    "</div>\n",
    "\n",
    "</div>\n",
    "\n",
    "Above you saw that the `==` operator (as in `== 'Gold'`), when applied\n",
    "to arrays, asks the question of every element in the array.\n",
    "\n",
    "First make the Boolean arrays."
   ]
  },
  {
   "cell_type": "code",
   "execution_count": null,
   "id": "08658974",
   "metadata": {},
   "outputs": [],
   "source": [
    "ten_first_gold = (ten_first_chests == 'Gold')\n",
    "print(\"Ten first == 'Gold'\", ten_first_gold)"
   ]
  },
  {
   "cell_type": "code",
   "execution_count": null,
   "id": "75e7a237",
   "metadata": {},
   "outputs": [],
   "source": [
    "ten_second_gold = (ten_second_chests == 'Gold')\n",
    "print(\"Ten second == 'Gold'\", ten_second_gold)"
   ]
  },
  {
   "cell_type": "markdown",
   "id": "8c7bac95",
   "metadata": {},
   "source": [
    "Now let us use `&` to combine Boolean arrays:"
   ]
  },
  {
   "cell_type": "code",
   "execution_count": null,
   "id": "185747f5",
   "metadata": {},
   "outputs": [],
   "source": [
    "ten_both = (ten_first_gold & ten_second_gold)\n",
    "ten_both"
   ]
  },
  {
   "cell_type": "markdown",
   "id": "98d6fdc3",
   "metadata": {},
   "source": [
    "Notice that Python does the comparison *elementwise* — element by\n",
    "element.\n",
    "\n",
    "You saw that when we did `second_chests == 'Gold'` this had the effect\n",
    "of asking the `== 'Gold'` question of *each element*, so there will be\n",
    "one answer per element in `second_chests`. In that case there was an\n",
    "array to the *left* of `==` and a single value to the *right*. We were\n",
    "comparing an array to a value.\n",
    "\n",
    "Here we are asking the `&` question of `ten_first_gold` and\n",
    "`ten_second_gold`. Here there is an array to the *left* and an array to\n",
    "the *right*. We are asking the `&` question 10 times, but the first\n",
    "question we are asking is:"
   ]
  },
  {
   "cell_type": "code",
   "execution_count": null,
   "id": "3510c781",
   "metadata": {},
   "outputs": [],
   "source": [
    "# First question, giving first element of result.\n",
    "(ten_first_gold[0] & ten_second_gold[0])"
   ]
  },
  {
   "cell_type": "markdown",
   "id": "201c20cf",
   "metadata": {},
   "source": [
    "The second question is:"
   ]
  },
  {
   "cell_type": "code",
   "execution_count": null,
   "id": "94807a94",
   "metadata": {},
   "outputs": [],
   "source": [
    "# Second question, giving second element of result.\n",
    "(ten_first_gold[1] & ten_second_gold[1])"
   ]
  },
  {
   "cell_type": "markdown",
   "id": "d0ef97dd",
   "metadata": {},
   "source": [
    "and so on. We have ten elements on *each side*, and 10 answers, giving\n",
    "an array (`ten_both`) of 10 elements. Each element in `ten_both` is the\n",
    "answer to the `&` question for the elements at the corresponding\n",
    "positions in `ten_first_gold` and `ten_second_gold`.\n",
    "\n",
    "We could also create the Boolean arrays and do the `&` operation all in\n",
    "one step, like this:"
   ]
  },
  {
   "cell_type": "code",
   "execution_count": null,
   "id": "b27eff4c",
   "metadata": {
    "lines_to_next_cell": 0
   },
   "outputs": [],
   "source": [
    "ten_both = (ten_first_chests == 'Gold') & (ten_second_chests == 'Gold')\n",
    "ten_both"
   ]
  },
  {
   "cell_type": "markdown",
   "id": "65d01089",
   "metadata": {},
   "source": []
  },
  {
   "cell_type": "markdown",
   "id": "7af319a6",
   "metadata": {},
   "source": [
    "<div class=\"callout callout-style-default callout-note callout-titled\">\n",
    "\n",
    "<div class=\"callout-header d-flex align-content-center\">\n",
    "\n",
    "<div class=\"callout-icon-container\">\n",
    "\n",
    "<i class='callout-icon'></i>\n",
    "\n",
    "</div>\n",
    "\n",
    "<div class=\"callout-title-container flex-fill\">\n",
    "\n",
    "Parentheses, arrays and comparisons\n",
    "\n",
    "</div>\n",
    "\n",
    "</div>\n",
    "\n",
    "<div class=\"callout-body-container callout-body\">\n",
    "\n",
    "Again you will notice the round brackets (parentheses) around\n",
    "`(ten_first_chests == 'Gold')` and `(ten_second_chests == 'Gold')`.\n",
    "Above, you saw us recommend you always use paretheses around Boolean\n",
    "expressions like this. The parentheses make the code easier to read —\n",
    "but be careful — in this case, we actually *need* the parentheses to\n",
    "make Python do what we want; see the footnote for more detail.[^1]\n",
    "\n",
    "</div>\n",
    "\n",
    "</div>\n",
    "\n",
    "Remember, we wanted the answer to the question: how many trials had\n",
    "“Gold” in the first chest *and* “Gold” in the second. We can answer that\n",
    "question for the first 10 trials with `np.sum`:"
   ]
  },
  {
   "cell_type": "code",
   "execution_count": null,
   "id": "9e535c5f",
   "metadata": {},
   "outputs": [],
   "source": [
    "n_ten_both = np.sum(ten_both)\n",
    "n_ten_both"
   ]
  },
  {
   "cell_type": "markdown",
   "id": "9bd6f9ec",
   "metadata": {},
   "source": [
    "We can answer the same question for *all* the trials, in the same way:"
   ]
  },
  {
   "cell_type": "code",
   "execution_count": null,
   "id": "e0de4263",
   "metadata": {},
   "outputs": [],
   "source": [
    "first_gold = (first_chests == 'Gold')\n",
    "second_gold = (second_chests == 'Gold')\n",
    "n_both_gold = np.sum(first_gold & second_gold)\n",
    "n_both_gold"
   ]
  },
  {
   "cell_type": "markdown",
   "id": "5737a10d",
   "metadata": {},
   "source": [
    "We could also do the same calculation all in one line:"
   ]
  },
  {
   "cell_type": "code",
   "execution_count": null,
   "id": "59e69bfd",
   "metadata": {},
   "outputs": [],
   "source": [
    "# Notice the parentheses - we need these - see above.\n",
    "n_both_gold = np.sum((first_chests == 'Gold') & (second_chests == 'Gold'))\n",
    "n_both_gold"
   ]
  },
  {
   "cell_type": "markdown",
   "id": "9e3e915d",
   "metadata": {},
   "source": [
    "We can then count all the ships where the first chest was gold:"
   ]
  },
  {
   "cell_type": "code",
   "execution_count": null,
   "id": "2bb82f4f",
   "metadata": {},
   "outputs": [],
   "source": [
    "n_first_gold = np.sum(first_chests == 'Gold')\n",
    "n_first_gold"
   ]
  },
  {
   "cell_type": "markdown",
   "id": "a3e9fb51",
   "metadata": {},
   "source": [
    "The final calculation is the proportion of second chests that are gold,\n",
    "given the first chest was also gold:"
   ]
  },
  {
   "cell_type": "code",
   "execution_count": null,
   "id": "018c3ef0",
   "metadata": {},
   "outputs": [],
   "source": [
    "p_g_given_g = n_both_gold / n_first_gold\n",
    "p_g_given_g"
   ]
  },
  {
   "cell_type": "markdown",
   "id": "117656c3",
   "metadata": {},
   "source": [
    "Of course we won’t get exactly the same results from the two\n",
    "simulations, in the same way that we won’t get exactly the same results\n",
    "from any two runs of the same simulation, because of the random values\n",
    "we are using. But the logic for the two simulations are the same, and we\n",
    "are doing many trials (10,000), so the results will be very similar.\n",
    "\n",
    "[^1]: We warned that we need parentheses around our `&` expressions to\n",
    "    get the result we want. We would add the parentheses in any case, as\n",
    "    good practice, but here we also *need* the parentheses in\n",
    "    `(ten_first_chests == 'Gold') & (ten_second_chests == 'Gold')`.\n",
    "    Remember *operator precedence*; for example, the multiply operator\n",
    "    `*` has *higher precedence* than the operator `+`, so `3 + 5 * 2` is\n",
    "    equal to `3 + (5 * 2)` = 13. If we want to do addition before\n",
    "    multiplication, we use parentheses to tell Python the order it\n",
    "    should use: `(3 + 5) * 2` = 16.\n",
    "\n",
    "    The same applies for the two operators `==` and `&` here. In fact\n",
    "    `&` has a higher precedence than `==`. This means that, if we write\n",
    "    the expression without parentheses —\n",
    "    `ten_first_chests == 'Gold' & ten_second_chests == 'Gold'` — because\n",
    "    of operator precedence, Python takes this to mean\n",
    "    `ten_first_chests == ('Gold' & ten_second_chests) == 'Gold'`. Python\n",
    "    does not know what to do with `'Gold' & ten_second_chests` and\n",
    "    generates an error of form\n",
    "    `'bitwise_and' not supported for the input types`. The error tells\n",
    "    you that Python does not know how to apply `&` (`'bitwise_and'`) to\n",
    "    the string `'Gold`’ and the array `ten_second_chests`.\n",
    "\n",
    "    This is the same error you would get for running the code\n",
    "    `'Gold' & ten_second_chests` on its own.\n",
    "\n",
    "    The point to take away is, that when you are using `&` to combine\n",
    "    Boolean arrays in Python, remember operator precedence, and, when in\n",
    "    doubt, put parentheses around the expressions on either side of `&`,\n",
    "    as here."
   ]
  }
 ],
 "metadata": {
  "jupytext": {
   "cell_metadata_filter": "-all",
   "main_language": "python",
   "notebook_metadata_filter": "-all"
  }
 },
 "nbformat": 4,
 "nbformat_minor": 5
}