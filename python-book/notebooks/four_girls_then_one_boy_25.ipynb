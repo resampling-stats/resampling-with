{
 "cells": [
  {
   "cell_type": "markdown",
   "id": "8f237dc6",
   "metadata": {},
   "source": [
    "# Four girls then one boy from 25/25"
   ]
  },
  {
   "cell_type": "markdown",
   "id": "37e374c1",
   "metadata": {},
   "source": [
    "**In this problem, order matters; we are sampling without replacement,\n",
    "with two outcomes, several of each item.**\n",
    "\n",
    "What is the probability of getting an ordered series of *four girls and\n",
    "then one boy* , from a universe of 25 girls and 25 boys? This\n",
    "illustrates Case 3 above. Clearly we can use the same sampling mechanism\n",
    "as in the example\n",
    "<a href=\"#sec-four-girls-one-boy\" class=\"quarto-xref\"><span\n",
    "class=\"quarto-unresolved-ref\">sec-four-girls-one-boy</span></a>, but now\n",
    "we record “yes” for a smaller number of composite events.\n",
    "\n",
    "We record “no” even if a single one boy is chosen but he is chosen 1st,\n",
    "2nd, 3rd, or 4th, whereas in\n",
    "<a href=\"#sec-four-girls-one-boy\" class=\"quarto-xref\"><span\n",
    "class=\"quarto-unresolved-ref\">sec-four-girls-one-boy</span></a>, such\n",
    "outcomes are recorded as “yes”-es.\n",
    "\n",
    "- **Step 1.** Generate a class (array) of length 50, consisting of 25\n",
    "  strings valued “boy” and 25 strings valued “girl”.\n",
    "- **Step 2.** Shuffle the class array, and select the first five\n",
    "  elements.\n",
    "- **Step 3.** If the first five elements are exactly\n",
    "  `'girl', 'girl', 'girl',   'girl', 'boy'`, write “yes,” otherwise\n",
    "  “no.”\n",
    "- **Step 4.** Repeat steps 2 and 3, say, 10,000 times, and count the\n",
    "  proportion of “yes” results, which estimates the probability sought.\n",
    "\n",
    "Let us start the single trial procedure like so:"
   ]
  },
  {
   "cell_type": "code",
   "execution_count": null,
   "id": "5ccd207b",
   "metadata": {},
   "outputs": [],
   "source": [
    "import numpy as np\n",
    "\n",
    "rnd = np.random.default_rng()"
   ]
  },
  {
   "cell_type": "code",
   "execution_count": null,
   "id": "7e109b7e",
   "metadata": {},
   "outputs": [],
   "source": [
    "# Constitute the set of 25 girls and 25 boys.\n",
    "whole_class = np.repeat(['girl', 'boy'], [25, 25])\n",
    "\n",
    "# Shuffle the class into a random order.\n",
    "shuffled = rnd.permuted(whole_class)\n",
    "# Take the first 5 class members, call them c.\n",
    "c = shuffled[:5]\n",
    "# Show the result.\n",
    "c"
   ]
  },
  {
   "cell_type": "markdown",
   "id": "2f2a4cac",
   "metadata": {},
   "source": [
    "Our next step (step 3) is to check whether `c` is exactly equal to the\n",
    "result of interest. The result of interest is:"
   ]
  },
  {
   "cell_type": "code",
   "execution_count": null,
   "id": "d211cffd",
   "metadata": {},
   "outputs": [],
   "source": [
    "# The result we are looking for - four girls and then a boy.\n",
    "result_of_interest = np.repeat(['girl', 'boy'], [4, 1])\n",
    "result_of_interest"
   ]
  },
  {
   "cell_type": "markdown",
   "id": "1034c947",
   "metadata": {},
   "source": [
    "We can then use an array *comparison* with `==` to do an element by\n",
    "element (*elementwise*) check, asking whether the corresponding elements\n",
    "are equal:"
   ]
  },
  {
   "cell_type": "code",
   "execution_count": null,
   "id": "a3281e45",
   "metadata": {},
   "outputs": [],
   "source": [
    "# A Boolean array, with True where corresponding elements are equal, False\n",
    "# otherwise.\n",
    "are_equal = c == result_of_interest\n",
    "are_equal"
   ]
  },
  {
   "cell_type": "markdown",
   "id": "1c55bff4",
   "metadata": {},
   "source": [
    "We are nearly finished with step 3 — it only remains to check whether\n",
    "*all* of the elements were equal, by checking whether *all* of the\n",
    "values in `are_equal` are `True`.\n",
    "\n",
    "We know that there are 5 elements, so we could check whether there are 5\n",
    "`True` values with `np.sum`:"
   ]
  },
  {
   "cell_type": "code",
   "execution_count": null,
   "id": "f7bd8471",
   "metadata": {},
   "outputs": [],
   "source": [
    "# Are there exactly 5 True values in `are_equal`?\n",
    "np.sum(are_equal) == 5"
   ]
  },
  {
   "cell_type": "markdown",
   "id": "355c5a8a",
   "metadata": {},
   "source": [
    "Another way to ask the same question is by using the `np.all` function\n",
    "on `are_equal`. This returns `True` if *all* the elements in `are_equal`\n",
    "are `True`, and `False` otherwise.\n",
    "\n",
    "<div class=\"callout callout-style-default callout-note callout-titled\">\n",
    "\n",
    "<div class=\"callout-header d-flex align-content-center\">\n",
    "\n",
    "<div class=\"callout-icon-container\">\n",
    "\n",
    "<i class='callout-icon'></i>\n",
    "\n",
    "</div>\n",
    "\n",
    "<div class=\"callout-title-container flex-fill\">\n",
    "\n",
    "Testing whether all elements of an array are the same\n",
    "\n",
    "</div>\n",
    "\n",
    "</div>\n",
    "\n",
    "<div class=\"callout-body-container callout-body\">\n",
    "\n",
    "The `np.all`, applied to a Boolean array (as here), checks whether *all*\n",
    "of the elements in the Boolean array are `True`. If so, it returns\n",
    "`True`, otherwise, it returns `False`.\n",
    "\n",
    "For example:"
   ]
  },
  {
   "cell_type": "code",
   "execution_count": null,
   "id": "a230bf2b",
   "metadata": {},
   "outputs": [],
   "source": [
    "# All elements are True, `np.all` returns True\n",
    "np.all([True, True, True, True])"
   ]
  },
  {
   "cell_type": "code",
   "execution_count": null,
   "id": "6005fc11",
   "metadata": {},
   "outputs": [],
   "source": [
    "# At least one element is False, `np.all` returns False\n",
    "np.all([True, True, False, True])"
   ]
  },
  {
   "cell_type": "markdown",
   "id": "71beb2f5",
   "metadata": {},
   "source": [
    "</div>\n",
    "\n",
    "</div>\n",
    "\n",
    "Here is the full procedure for steps 2 and 3 (a single trial):"
   ]
  },
  {
   "cell_type": "code",
   "execution_count": null,
   "id": "658434c5",
   "metadata": {},
   "outputs": [],
   "source": [
    "# Shuffle the class into a random order.\n",
    "shuffled = rnd.permuted(whole_class)\n",
    "# Take the first 5 class members, call them c.\n",
    "c = shuffled[:5]\n",
    "# For each element, test whether the result is the result of interest.\n",
    "are_equal = c == result_of_interest\n",
    "# Check whether we have the result we are looking for.\n",
    "is_four_girls_then_one_boy = np.all(are_equal)"
   ]
  },
  {
   "cell_type": "markdown",
   "id": "9df09bac",
   "metadata": {},
   "source": [
    "All that remains is to put the single trial procedure into a loop."
   ]
  },
  {
   "cell_type": "code",
   "execution_count": null,
   "id": "bc441b9e",
   "metadata": {},
   "outputs": [],
   "source": [
    "N = 10000\n",
    "trial_results = np.zeros(N)\n",
    "\n",
    "# Repeat the following steps 1000 times.\n",
    "for i in range(N):\n",
    "\n",
    "    # Shuffle the class into a random order.\n",
    "    shuffled = rnd.permuted(whole_class)\n",
    "    # Take the first 5 class members, call them c.\n",
    "    c = shuffled[:5]\n",
    "    # For each element, test whether the result is the result of interest.\n",
    "    are_equal = c == result_of_interest\n",
    "    # Check whether we have the result we are looking for.\n",
    "    is_four_girls_then_one_boy = np.all(are_equal)\n",
    "\n",
    "    # Store the result of this trial.\n",
    "    trial_results[i] = is_four_girls_then_one_boy\n",
    "\n",
    "    # End the experiment, go back and repeat until all N trials are\n",
    "    # complete.\n",
    "\n",
    "# Count the number of times we got four girls then a boy\n",
    "k = np.sum(trial_results)\n",
    "\n",
    "# Convert to a proportion.\n",
    "kk = k / N\n",
    "\n",
    "# Print the result.\n",
    "print(kk)"
   ]
  },
  {
   "cell_type": "markdown",
   "id": "65e1c3ef",
   "metadata": {},
   "source": [
    "This type of problem is conventionally done with a *permutation*\n",
    "formula."
   ]
  }
 ],
 "metadata": {
  "jupytext": {
   "cell_metadata_filter": "-all",
   "main_language": "python",
   "notebook_metadata_filter": "-all"
  }
 },
 "nbformat": 4,
 "nbformat_minor": 5
}